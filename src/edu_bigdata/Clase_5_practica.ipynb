{
 "cells": [
  {
   "cell_type": "markdown",
   "metadata": {
    "application/vnd.databricks.v1+cell": {
     "cellMetadata": {},
     "inputWidgets": {},
     "nuid": "55fc9cbb-80bf-4321-9426-436a0c10cbf3",
     "showTitle": false,
     "tableResultSettingsMap": {},
     "title": ""
    }
   },
   "source": [
    "# Paso 1: Configuración del Entorno"
   ]
  },
  {
   "cell_type": "code",
   "execution_count": 0,
   "metadata": {
    "application/vnd.databricks.v1+cell": {
     "cellMetadata": {
      "byteLimit": 2048000,
      "rowLimit": 10000
     },
     "inputWidgets": {},
     "nuid": "b4f02a97-678e-4457-aadb-b4f4ff5041b7",
     "showTitle": false,
     "tableResultSettingsMap": {},
     "title": ""
    }
   },
   "outputs": [
    {
     "output_type": "stream",
     "name": "stdout",
     "output_type": "stream",
     "text": [
      "Python interpreter will be restarted.\nRequirement already satisfied: beautifulsoup4 in /databricks/python3/lib/python3.9/site-packages (4.11.1)\nRequirement already satisfied: requests in /databricks/python3/lib/python3.9/site-packages (2.27.1)\nRequirement already satisfied: pandas in /databricks/python3/lib/python3.9/site-packages (1.4.2)\nRequirement already satisfied: soupsieve>1.2 in /databricks/python3/lib/python3.9/site-packages (from beautifulsoup4) (2.3.1)\nRequirement already satisfied: charset-normalizer~=2.0.0 in /databricks/python3/lib/python3.9/site-packages (from requests) (2.0.4)\nRequirement already satisfied: idna<4,>=2.5 in /databricks/python3/lib/python3.9/site-packages (from requests) (3.3)\nRequirement already satisfied: certifi>=2017.4.17 in /databricks/python3/lib/python3.9/site-packages (from requests) (2021.10.8)\nRequirement already satisfied: urllib3<1.27,>=1.21.1 in /databricks/python3/lib/python3.9/site-packages (from requests) (1.26.9)\nRequirement already satisfied: python-dateutil>=2.8.1 in /databricks/python3/lib/python3.9/site-packages (from pandas) (2.8.2)\nRequirement already satisfied: numpy>=1.18.5 in /databricks/python3/lib/python3.9/site-packages (from pandas) (1.21.5)\nRequirement already satisfied: pytz>=2020.1 in /databricks/python3/lib/python3.9/site-packages (from pandas) (2021.3)\nRequirement already satisfied: six>=1.5 in /databricks/python3/lib/python3.9/site-packages (from python-dateutil>=2.8.1->pandas) (1.16.0)\nPython interpreter will be restarted.\n"
     ]
    }
   ],
   "source": [
    "%pip install beautifulsoup4 requests pandas"
   ]
  },
  {
   "cell_type": "markdown",
   "metadata": {
    "application/vnd.databricks.v1+cell": {
     "cellMetadata": {},
     "inputWidgets": {},
     "nuid": "55cd1190-1e14-4cfe-b7fa-575c1649a717",
     "showTitle": false,
     "tableResultSettingsMap": {},
     "title": ""
    }
   },
   "source": [
    "# Importar librerías"
   ]
  },
  {
   "cell_type": "code",
   "execution_count": 0,
   "metadata": {
    "application/vnd.databricks.v1+cell": {
     "cellMetadata": {
      "byteLimit": 2048000,
      "rowLimit": 10000
     },
     "inputWidgets": {},
     "nuid": "2d017e0d-795e-4e08-9acd-4d4ed74fa56d",
     "showTitle": false,
     "tableResultSettingsMap": {},
     "title": ""
    }
   },
   "outputs": [
    {
     "output_type": "display_data",
     "data": {
      "application/vnd.databricks.v1+bamboolib_hint": "{\"pd.DataFrames\": [], \"version\": \"0.0.1\"}",
      "text/plain": []
     },
     "metadata": {},
     "output_type": "display_data"
    }
   ],
   "source": [
    "import pandas as pd\n",
    "import requests\n",
    "from bs4 import BeautifulSoup\n",
    "import datetime"
   ]
  },
  {
   "cell_type": "markdown",
   "metadata": {
    "application/vnd.databricks.v1+cell": {
     "cellMetadata": {},
     "inputWidgets": {},
     "nuid": "f0a1a989-cfce-4125-8c4c-dad4f553c29e",
     "showTitle": false,
     "tableResultSettingsMap": {},
     "title": ""
    }
   },
   "source": [
    "# Paso 2: Clase DataWeb"
   ]
  },
  {
   "cell_type": "markdown",
   "metadata": {
    "application/vnd.databricks.v1+cell": {
     "cellMetadata": {},
     "inputWidgets": {},
     "nuid": "563bf27c-115b-4330-ab9e-23ac91232633",
     "showTitle": false,
     "tableResultSettingsMap": {},
     "title": ""
    }
   },
   "source": [
    "### Clase especializada para extraer datos financieros de Yahoo Finance"
   ]
  },
  {
   "cell_type": "code",
   "execution_count": 0,
   "metadata": {
    "application/vnd.databricks.v1+cell": {
     "cellMetadata": {
      "byteLimit": 2048000,
      "rowLimit": 10000
     },
     "inputWidgets": {},
     "nuid": "a007fe16-4f2c-4f41-89c8-5c80286f90fe",
     "showTitle": false,
     "tableResultSettingsMap": {},
     "title": ""
    }
   },
   "outputs": [
    {
     "output_type": "stream",
     "name": "stdout",
     "output_type": "stream",
     "text": [
      "🚀 Clase DataWeb mejorada lista para usar\n"
     ]
    }
   ],
   "source": [
    "class DataWeb:\n",
    "    \"\"\"\n",
    "    Clase especializada para extraer datos financieros de Yahoo Finance\n",
    "    Optimizada para Databricks Community Edition\n",
    "    \"\"\"\n",
    "    \n",
    "    def __init__(self, listado_indicadores=[]):\n",
    "        self.listado_indicadores = listado_indicadores\n",
    "        self.url_historicos = \"https://es.finance.yahoo.com/quote/{}/history/\"\n",
    "        self.url_perfil = \"https://es.finance.yahoo.com/quote/{}/\"\n",
    "        self.headers = {\n",
    "            'User-Agent': 'Mozilla/5.0 (Windows NT 10.0; Win64; x64) AppleWebKit/537.36',\n",
    "            'Accept': 'text/html,application/xhtml+xml,application/xml;q=0.9,*/*;q=0.8',\n",
    "            'Accept-Language': 'es-ES,es;q=0.9,en;q=0.8',\n",
    "            'Accept-Encoding': 'gzip, deflate',\n",
    "            'Connection': 'keep-alive',\n",
    "        }\n",
    "    \n",
    "    def obtener_datos(self, indicador=\"\"):\n",
    "        \"\"\"\n",
    "        Extrae datos históricos de un indicador financiero\n",
    "        \"\"\"\n",
    "        try:\n",
    "            url = self.url_historicos.format(indicador)\n",
    "            print(f\"🔍 Extrayendo datos de: {indicador}\")\n",
    "            \n",
    "            respuesta = requests.get(url, headers=self.headers, timeout=30)\n",
    "            if respuesta.status_code != 200:\n",
    "                print(f\"❌ Error HTTP {respuesta.status_code} para {indicador}\")\n",
    "                return pd.DataFrame()\n",
    "            \n",
    "            soup = BeautifulSoup(respuesta.text, 'html.parser')\n",
    "            tabla = soup.select_one('div[data-testid=\"history-table\"] table')\n",
    "            \n",
    "            if not tabla:\n",
    "                print(f\"❌ No se encontró tabla de datos para {indicador}\")\n",
    "                return pd.DataFrame()\n",
    "            \n",
    "            # Extraer nombres de columnas\n",
    "            nombre_columnas = [th.get_text(strip=True) for th in tabla.thead.find_all('th')]\n",
    "            \n",
    "            # Extraer filas de datos\n",
    "            filas = []\n",
    "            for tr in tabla.tbody.find_all('tr'):\n",
    "                columnas = [td.get_text(strip=True) for td in tr.find_all('td')]\n",
    "                if len(columnas) == len(nombre_columnas):\n",
    "                    filas.append(columnas)\n",
    "            \n",
    "            # Crear DataFrame\n",
    "            df = pd.DataFrame(filas, columns=nombre_columnas)\n",
    "            \n",
    "            # Normalizar nombres de columnas\n",
    "            df = df.rename(columns=self._normalizar_columnas())\n",
    "            \n",
    "            # Convertir tipos de datos\n",
    "            df = self.convertir_numericos(df)\n",
    "            \n",
    "            # Agregar metadatos\n",
    "            df[\"cod_indicador\"] = indicador\n",
    "            df[\"fecha_extraccion\"] = datetime.datetime.now()\n",
    "            \n",
    "            print(f\"✅ Extraídos {len(df)} registros para {indicador}\")\n",
    "            return df\n",
    "            \n",
    "        except Exception as err:\n",
    "            print(f\"❌ Error en obtener_datos para {indicador}: {str(err)}\")\n",
    "            return pd.DataFrame()\n",
    "    \n",
    "    def obtener_metadatos(self, indicador=\"\"):\n",
    "        \"\"\"\n",
    "        Extrae metadatos del indicador (nombre, mercado, etc.)\n",
    "        \"\"\"\n",
    "        try:\n",
    "            url = self.url_perfil.format(indicador)\n",
    "            respuesta = requests.get(url, headers=self.headers, timeout=30)\n",
    "            \n",
    "            if respuesta.status_code != 200:\n",
    "                return self._metadatos_default(indicador)\n",
    "            \n",
    "            soup = BeautifulSoup(respuesta.text, 'html.parser')\n",
    "            \n",
    "            # Extraer información básica\n",
    "            nombre = self._extraer_nombre(soup, indicador)\n",
    "            moneda = self._extraer_moneda(soup)\n",
    "            mercado = self._extraer_mercado(soup)\n",
    "            clasificacion = self._inferir_clasificacion(indicador)\n",
    "            pais = self._inferir_pais(indicador, mercado)\n",
    "            \n",
    "            metadatos = {\n",
    "                'cod_indicador': indicador,\n",
    "                'nombre': nombre,\n",
    "                'pais': pais,\n",
    "                'clasificacion': clasificacion,\n",
    "                'moneda': moneda,\n",
    "                'mercado': mercado,\n",
    "                'fecha_actualizacion': datetime.datetime.now(),\n",
    "                'activo': True\n",
    "            }\n",
    "            \n",
    "            print(f\"📋 Metadatos extraídos para {indicador}: {nombre}\")\n",
    "            return metadatos\n",
    "            \n",
    "        except Exception as err:\n",
    "            print(f\"⚠️ Error extrayendo metadatos para {indicador}: {str(err)}\")\n",
    "            return self._metadatos_default(indicador)\n",
    "    \n",
    "    def convertir_numericos(self, df=pd.DataFrame()):\n",
    "        \"\"\"\n",
    "        Convierte columnas numéricas al formato correcto\n",
    "        \"\"\"\n",
    "        df = df.copy()\n",
    "        if len(df) > 0:\n",
    "            columnas_numericas = ['abrir', 'max', 'min', 'cerrar', 'cierre_ajustado', 'volumen']\n",
    "            for col in columnas_numericas:\n",
    "                if col in df.columns:\n",
    "                    df[col] = (df[col]\n",
    "                              .str.replace(r\"[^\\d,.-]\", \"\", regex=True)  # Eliminar caracteres no numéricos\n",
    "                              .str.replace(r\"\\.(?=.*\\.)\", \"\", regex=True)  # Eliminar puntos excepto el decimal\n",
    "                              .str.replace(\",\", \".\")  # Convertir coma decimal a punto\n",
    "                              .replace([\"-\", \"\"], \"0\")  # Reemplazar guiones y vacíos con 0\n",
    "                              )\n",
    "                    # Convertir a numérico\n",
    "                    df[col] = pd.to_numeric(df[col], errors='coerce').fillna(0)\n",
    "        return df\n",
    "    \n",
    "    def _normalizar_columnas(self):\n",
    "        \"\"\"\n",
    "        Mapeo de nombres de columnas en español a nombres normalizados\n",
    "        \"\"\"\n",
    "        return {\n",
    "            'Fecha': 'fecha',\n",
    "            'Abrir': 'abrir',\n",
    "            'Máx.': 'max',\n",
    "            'Mín.': 'min',\n",
    "            'Cerrar': 'cerrar',\n",
    "            'Cierre ajustado': 'cierre_ajustado',\n",
    "            'Volumen': 'volumen'\n",
    "        }\n",
    "    \n",
    "    def _extraer_nombre(self, soup, indicador):\n",
    "        \"\"\"Extrae el nombre del instrumento\"\"\"\n",
    "        try:\n",
    "            # Buscar diferentes selectores para el nombre\n",
    "            selectores = [\n",
    "                'h1[data-testid=\"quote-header\"]',\n",
    "                'h1.yf-xxbei9',\n",
    "                '.yf-xxbei9',\n",
    "                'h1'\n",
    "            ]\n",
    "            \n",
    "            for selector in selectores:\n",
    "                elemento = soup.select_one(selector)\n",
    "                if elemento:\n",
    "                    nombre = elemento.get_text(strip=True)\n",
    "                    if nombre and len(nombre) > 1:\n",
    "                        return nombre[:100]  # Limitar longitud\n",
    "            \n",
    "            return f\"Instrumento {indicador}\"\n",
    "        except:\n",
    "            return f\"Instrumento {indicador}\"\n",
    "    \n",
    "    def _extraer_moneda(self, soup):\n",
    "        \"\"\"Extrae la moneda del instrumento\"\"\"\n",
    "        try:\n",
    "            # Buscar indicadores de moneda\n",
    "            texto = soup.get_text().upper()\n",
    "            if 'USD' in texto:\n",
    "                return 'USD'\n",
    "            elif 'EUR' in texto:\n",
    "                return 'EUR'\n",
    "            elif 'GBP' in texto:\n",
    "                return 'GBP'\n",
    "            elif 'JPY' in texto:\n",
    "                return 'JPY'\n",
    "            else:\n",
    "                return 'USD'  # Por defecto\n",
    "        except:\n",
    "            return 'USD'\n",
    "    \n",
    "    def _extraer_mercado(self, soup):\n",
    "        \"\"\"Extrae información del mercado\"\"\"\n",
    "        try:\n",
    "            # Buscar información de mercado\n",
    "            mercado_elem = soup.select_one('.exchange')\n",
    "            if mercado_elem:\n",
    "                return mercado_elem.get_text(strip=True)[:50]\n",
    "            return 'N/A'\n",
    "        except:\n",
    "            return 'N/A'\n",
    "    \n",
    "    def _inferir_clasificacion(self, indicador):\n",
    "        \"\"\"Infiere la clasificación del instrumento basado en el código\"\"\"\n",
    "        indicador_upper = indicador.upper()\n",
    "        \n",
    "        if '^' in indicador or 'IBEX' in indicador_upper or 'STOXX' in indicador_upper:\n",
    "            return 'INDICE'\n",
    "        elif '=F' in indicador or 'CL=' in indicador or 'GC=' in indicador:\n",
    "            return 'COMMODITY'\n",
    "        elif '=X' in indicador or 'USD' in indicador_upper or 'EUR' in indicador_upper:\n",
    "            return 'DIVISA'\n",
    "        elif 'BTC' in indicador_upper or 'ETH' in indicador_upper:\n",
    "            return 'CRYPTO'\n",
    "        elif '.MC' in indicador:\n",
    "            return 'ACCION_ES'\n",
    "        else:\n",
    "            return 'ACCION'\n",
    "    \n",
    "    def _inferir_pais(self, indicador, mercado):\n",
    "        \"\"\"Infiere el país basado en el código y mercado\"\"\"\n",
    "        if '.MC' in indicador or 'IBEX' in indicador.upper():\n",
    "            return 'España'\n",
    "        elif 'STOXX' in indicador.upper():\n",
    "            return 'Europa'\n",
    "        elif mercado and ('NYSE' in mercado.upper() or 'NASDAQ' in mercado.upper()):\n",
    "            return 'Estados Unidos'\n",
    "        else:\n",
    "            return 'Internacional'\n",
    "    \n",
    "    def _metadatos_default(self, indicador):\n",
    "        \"\"\"Retorna metadatos por defecto cuando no se pueden extraer\"\"\"\n",
    "        return {\n",
    "            'cod_indicador': indicador,\n",
    "            'nombre': f'Instrumento {indicador}',\n",
    "            'pais': 'N/A',\n",
    "            'clasificacion': self._inferir_clasificacion(indicador),\n",
    "            'moneda': 'USD',\n",
    "            'mercado': 'N/A',\n",
    "            'fecha_actualizacion': datetime.datetime.now(),\n",
    "            'activo': True\n",
    "        }\n",
    "\n",
    "# Ejemplo de uso\n",
    "print(\"🚀 Clase DataWeb mejorada lista para usar\")"
   ]
  },
  {
   "cell_type": "markdown",
   "metadata": {
    "application/vnd.databricks.v1+cell": {
     "cellMetadata": {},
     "inputWidgets": {},
     "nuid": "99ec2acc-5f37-459d-8cde-366eee1da3ba",
     "showTitle": false,
     "tableResultSettingsMap": {},
     "title": ""
    }
   },
   "source": [
    "# Paso 3: Crear Esquema y Tablas Delta"
   ]
  },
  {
   "cell_type": "code",
   "execution_count": 0,
   "metadata": {
    "application/vnd.databricks.v1+cell": {
     "cellMetadata": {
      "byteLimit": 2048000,
      "implicitDf": true,
      "rowLimit": 10000
     },
     "inputWidgets": {},
     "nuid": "6cac0d05-dc8d-475a-9daf-f1fe1c1895df",
     "showTitle": false,
     "tableResultSettingsMap": {},
     "title": ""
    }
   },
   "outputs": [
    {
     "output_type": "display_data",
     "data": {
      "text/html": [
       "<style scoped>\n",
       "  .table-result-container {\n",
       "    max-height: 300px;\n",
       "    overflow: auto;\n",
       "  }\n",
       "  table, th, td {\n",
       "    border: 1px solid black;\n",
       "    border-collapse: collapse;\n",
       "  }\n",
       "  th, td {\n",
       "    padding: 5px;\n",
       "  }\n",
       "  th {\n",
       "    text-align: left;\n",
       "  }\n",
       "</style><div class='table-result-container'><table class='table-result'><thead style='background-color: white'><tr></tr></thead><tbody></tbody></table></div>"
      ]
     },
     "metadata": {
      "application/vnd.databricks.v1+output": {
       "addedWidgets": {},
       "aggData": [],
       "aggError": "",
       "aggOverflow": false,
       "aggSchema": [],
       "aggSeriesLimitReached": false,
       "aggType": "",
       "arguments": {},
       "columnCustomDisplayInfos": {},
       "data": [],
       "datasetInfos": [],
       "dbfsResultPath": null,
       "isJsonSchema": true,
       "metadata": {},
       "overflow": false,
       "plotOptions": {
        "customPlotOptions": {},
        "displayType": "table",
        "pivotAggregation": null,
        "pivotColumns": null,
        "xColumns": null,
        "yColumns": null
       },
       "removedWidgets": [],
       "schema": [],
       "type": "table"
      }
     },
     "output_type": "display_data"
    }
   ],
   "source": [
    "%sql\n",
    "DROP TABLE IF EXISTS finanzas_schema.indicador_parametros;\n",
    "DROP TABLE IF EXISTS finanzas_schema.indicador_financiero;\n",
    "DROP TABLE IF EXISTS finanzas_schema.indicador_demografico;\n"
   ]
  },
  {
   "cell_type": "code",
   "execution_count": 0,
   "metadata": {
    "application/vnd.databricks.v1+cell": {
     "cellMetadata": {
      "byteLimit": 2048000,
      "implicitDf": true,
      "rowLimit": 10000
     },
     "inputWidgets": {},
     "nuid": "73550eb7-bf40-40be-be6d-703d4ffe15da",
     "showTitle": false,
     "tableResultSettingsMap": {},
     "title": ""
    }
   },
   "outputs": [
    {
     "output_type": "display_data",
     "data": {
      "text/html": [
       "<style scoped>\n",
       "  .table-result-container {\n",
       "    max-height: 300px;\n",
       "    overflow: auto;\n",
       "  }\n",
       "  table, th, td {\n",
       "    border: 1px solid black;\n",
       "    border-collapse: collapse;\n",
       "  }\n",
       "  th, td {\n",
       "    padding: 5px;\n",
       "  }\n",
       "  th {\n",
       "    text-align: left;\n",
       "  }\n",
       "</style><div class='table-result-container'><table class='table-result'><thead style='background-color: white'><tr></tr></thead><tbody></tbody></table></div>"
      ]
     },
     "metadata": {
      "application/vnd.databricks.v1+output": {
       "addedWidgets": {},
       "aggData": [],
       "aggError": "",
       "aggOverflow": false,
       "aggSchema": [],
       "aggSeriesLimitReached": false,
       "aggType": "",
       "arguments": {},
       "columnCustomDisplayInfos": {},
       "data": [],
       "datasetInfos": [],
       "dbfsResultPath": null,
       "isJsonSchema": true,
       "metadata": {},
       "overflow": false,
       "plotOptions": {
        "customPlotOptions": {},
        "displayType": "table",
        "pivotAggregation": null,
        "pivotColumns": null,
        "xColumns": null,
        "yColumns": null
       },
       "removedWidgets": [],
       "schema": [],
       "type": "table"
      }
     },
     "output_type": "display_data"
    }
   ],
   "source": [
    "%sql\n",
    "DROP SCHEMA IF EXISTS finanzas_schema CASCADE;"
   ]
  },
  {
   "cell_type": "code",
   "execution_count": 0,
   "metadata": {
    "application/vnd.databricks.v1+cell": {
     "cellMetadata": {
      "byteLimit": 2048000,
      "implicitDf": true,
      "rowLimit": 10000
     },
     "inputWidgets": {},
     "nuid": "ad52335b-d96d-4bc7-8bcd-f91245418828",
     "showTitle": false,
     "tableResultSettingsMap": {},
     "title": ""
    }
   },
   "outputs": [
    {
     "output_type": "display_data",
     "data": {
      "text/html": [
       "<style scoped>\n",
       "  .table-result-container {\n",
       "    max-height: 300px;\n",
       "    overflow: auto;\n",
       "  }\n",
       "  table, th, td {\n",
       "    border: 1px solid black;\n",
       "    border-collapse: collapse;\n",
       "  }\n",
       "  th, td {\n",
       "    padding: 5px;\n",
       "  }\n",
       "  th {\n",
       "    text-align: left;\n",
       "  }\n",
       "</style><div class='table-result-container'><table class='table-result'><thead style='background-color: white'><tr></tr></thead><tbody></tbody></table></div>"
      ]
     },
     "metadata": {
      "application/vnd.databricks.v1+output": {
       "addedWidgets": {},
       "aggData": [],
       "aggError": "",
       "aggOverflow": false,
       "aggSchema": [],
       "aggSeriesLimitReached": false,
       "aggType": "",
       "arguments": {},
       "columnCustomDisplayInfos": {},
       "data": [],
       "datasetInfos": [],
       "dbfsResultPath": null,
       "isJsonSchema": true,
       "metadata": {},
       "overflow": false,
       "plotOptions": {
        "customPlotOptions": {},
        "displayType": "table",
        "pivotAggregation": null,
        "pivotColumns": null,
        "xColumns": null,
        "yColumns": null
       },
       "removedWidgets": [],
       "schema": [],
       "type": "table"
      }
     },
     "output_type": "display_data"
    }
   ],
   "source": [
    "%sql\n",
    "-- Crear esquema principal\n",
    "CREATE SCHEMA IF NOT EXISTS finanzas_schema\n",
    "COMMENT 'Esquema para datos financieros y análisis de mercados';"
   ]
  },
  {
   "cell_type": "code",
   "execution_count": 0,
   "metadata": {
    "application/vnd.databricks.v1+cell": {
     "cellMetadata": {
      "byteLimit": 2048000,
      "implicitDf": true,
      "rowLimit": 10000
     },
     "inputWidgets": {},
     "nuid": "9e5f4ed3-356a-40b2-be73-8d64cfaceb28",
     "showTitle": false,
     "tableResultSettingsMap": {},
     "title": ""
    }
   },
   "outputs": [
    {
     "output_type": "display_data",
     "data": {
      "text/html": [
       "<style scoped>\n",
       "  .table-result-container {\n",
       "    max-height: 300px;\n",
       "    overflow: auto;\n",
       "  }\n",
       "  table, th, td {\n",
       "    border: 1px solid black;\n",
       "    border-collapse: collapse;\n",
       "  }\n",
       "  th, td {\n",
       "    padding: 5px;\n",
       "  }\n",
       "  th {\n",
       "    text-align: left;\n",
       "  }\n",
       "</style><div class='table-result-container'><table class='table-result'><thead style='background-color: white'><tr></tr></thead><tbody></tbody></table></div>"
      ]
     },
     "metadata": {
      "application/vnd.databricks.v1+output": {
       "addedWidgets": {},
       "aggData": [],
       "aggError": "",
       "aggOverflow": false,
       "aggSchema": [],
       "aggSeriesLimitReached": false,
       "aggType": "",
       "arguments": {},
       "columnCustomDisplayInfos": {},
       "data": [],
       "datasetInfos": [],
       "dbfsResultPath": null,
       "isJsonSchema": true,
       "metadata": {},
       "overflow": false,
       "plotOptions": {
        "customPlotOptions": {},
        "displayType": "table",
        "pivotAggregation": null,
        "pivotColumns": null,
        "xColumns": null,
        "yColumns": null
       },
       "removedWidgets": [],
       "schema": [],
       "type": "table"
      }
     },
     "output_type": "display_data"
    }
   ],
   "source": [
    "%sql\n",
    "-- TABLA 1: PARÁMETROS DE INDICADORES\n",
    "-- =================================================\n",
    "DROP TABLE IF EXISTS finanzas_schema.indicador_parametros;\n",
    "\n"
   ]
  },
  {
   "cell_type": "code",
   "execution_count": 0,
   "metadata": {
    "application/vnd.databricks.v1+cell": {
     "cellMetadata": {
      "byteLimit": 2048000,
      "implicitDf": true,
      "rowLimit": 10000
     },
     "inputWidgets": {},
     "nuid": "a582de4b-078e-4d39-b669-503185cae454",
     "showTitle": false,
     "tableResultSettingsMap": {},
     "title": ""
    }
   },
   "outputs": [
    {
     "output_type": "display_data",
     "data": {
      "text/html": [
       "<style scoped>\n",
       "  .table-result-container {\n",
       "    max-height: 300px;\n",
       "    overflow: auto;\n",
       "  }\n",
       "  table, th, td {\n",
       "    border: 1px solid black;\n",
       "    border-collapse: collapse;\n",
       "  }\n",
       "  th, td {\n",
       "    padding: 5px;\n",
       "  }\n",
       "  th {\n",
       "    text-align: left;\n",
       "  }\n",
       "</style><div class='table-result-container'><table class='table-result'><thead style='background-color: white'><tr></tr></thead><tbody></tbody></table></div>"
      ]
     },
     "metadata": {
      "application/vnd.databricks.v1+output": {
       "addedWidgets": {},
       "aggData": [],
       "aggError": "",
       "aggOverflow": false,
       "aggSchema": [],
       "aggSeriesLimitReached": false,
       "aggType": "",
       "arguments": {},
       "columnCustomDisplayInfos": {},
       "data": [],
       "datasetInfos": [],
       "dbfsResultPath": null,
       "isJsonSchema": true,
       "metadata": {},
       "overflow": false,
       "plotOptions": {
        "customPlotOptions": {},
        "displayType": "table",
        "pivotAggregation": null,
        "pivotColumns": null,
        "xColumns": null,
        "yColumns": null
       },
       "removedWidgets": [],
       "schema": [],
       "type": "table"
      }
     },
     "output_type": "display_data"
    }
   ],
   "source": [
    "%sql\n",
    "CREATE TABLE IF NOT EXISTS finanzas_schema.indicador_parametros (\n",
    "    cod_indicador STRING NOT NULL,\n",
    "    descripcion STRING,\n",
    "    prioridad INT,\n",
    "    patron_clasificacion STRING,\n",
    "    activo BOOLEAN,\n",
    "    fecha_creacion TIMESTAMP\n",
    ")\n",
    "USING DELTA\n",
    "COMMENT 'Tabla de configuración y patrones para clasificación de instrumentos financieros'\n",
    "TBLPROPERTIES (\n",
    "  'delta.autoOptimize.optimizeWrite' = 'true',\n",
    "  'delta.autoOptimize.autoCompact' = 'true'\n",
    ");"
   ]
  },
  {
   "cell_type": "code",
   "execution_count": 0,
   "metadata": {
    "application/vnd.databricks.v1+cell": {
     "cellMetadata": {
      "byteLimit": 2048000,
      "implicitDf": true,
      "rowLimit": 10000
     },
     "inputWidgets": {},
     "nuid": "5b4bf81e-fc67-4788-afd2-68d2acbd1a84",
     "showTitle": false,
     "tableResultSettingsMap": {},
     "title": ""
    }
   },
   "outputs": [
    {
     "output_type": "display_data",
     "data": {
      "text/html": [
       "<style scoped>\n",
       "  .table-result-container {\n",
       "    max-height: 300px;\n",
       "    overflow: auto;\n",
       "  }\n",
       "  table, th, td {\n",
       "    border: 1px solid black;\n",
       "    border-collapse: collapse;\n",
       "  }\n",
       "  th, td {\n",
       "    padding: 5px;\n",
       "  }\n",
       "  th {\n",
       "    text-align: left;\n",
       "  }\n",
       "</style><div class='table-result-container'><table class='table-result'><thead style='background-color: white'><tr><th>cod_indicador</th><th>descripcion</th><th>prioridad</th><th>patron_clasificacion</th><th>activo</th><th>fecha_creacion</th></tr></thead><tbody><tr><td>^STOXX50E</td><td>Euro Stoxx 50 - Índice de las 50 principales empresas de la eurozona</td><td>1</td><td>INDICE_EUROPEO</td><td>true</td><td>2025-05-22T02:15:29.571+0000</td></tr><tr><td>^IBEX</td><td>IBEX 35 - Índice principal de la bolsa española</td><td>1</td><td>INDICE_ESPAÑOL</td><td>true</td><td>2025-05-22T02:15:29.571+0000</td></tr><tr><td>^FCHI</td><td>CAC 40 - Índice de la bolsa de París</td><td>1</td><td>INDICE_FRANCES</td><td>true</td><td>2025-05-22T02:15:29.571+0000</td></tr><tr><td>GC=F</td><td>Oro - Futuros del metal precioso</td><td>1</td><td>COMMODITY_METAL</td><td>true</td><td>2025-05-22T02:15:29.571+0000</td></tr><tr><td>CL=F</td><td>Petróleo WTI - Futuros de crudo</td><td>1</td><td>COMMODITY_ENERGIA</td><td>true</td><td>2025-05-22T02:15:29.571+0000</td></tr><tr><td>EURUSD=X</td><td>Euro / Dólar estadounidense</td><td>1</td><td>DIVISA_MAYOR</td><td>true</td><td>2025-05-22T02:15:29.571+0000</td></tr><tr><td>BTC-EUR</td><td>Bitcoin en euros</td><td>1</td><td>CRYPTO_MAYOR</td><td>true</td><td>2025-05-22T02:15:29.571+0000</td></tr><tr><td>SAN.MC</td><td>Banco Santander - Acción española</td><td>2</td><td>ACCION_ESPAÑOLA_BANCARIA</td><td>true</td><td>2025-05-22T02:15:29.571+0000</td></tr><tr><td>TEF.MC</td><td>Telefónica - Acción española de telecomunicaciones</td><td>2</td><td>ACCION_ESPAÑOLA_TELCO</td><td>true</td><td>2025-05-22T02:15:29.571+0000</td></tr></tbody></table></div>"
      ]
     },
     "metadata": {
      "application/vnd.databricks.v1+output": {
       "addedWidgets": {},
       "aggData": [],
       "aggError": "",
       "aggOverflow": false,
       "aggSchema": [],
       "aggSeriesLimitReached": false,
       "aggType": "",
       "arguments": {},
       "columnCustomDisplayInfos": {},
       "data": [
        [
         "^STOXX50E",
         "Euro Stoxx 50 - Índice de las 50 principales empresas de la eurozona",
         1,
         "INDICE_EUROPEO",
         true,
         "2025-05-22T02:15:29.571+0000"
        ],
        [
         "^IBEX",
         "IBEX 35 - Índice principal de la bolsa española",
         1,
         "INDICE_ESPAÑOL",
         true,
         "2025-05-22T02:15:29.571+0000"
        ],
        [
         "^FCHI",
         "CAC 40 - Índice de la bolsa de París",
         1,
         "INDICE_FRANCES",
         true,
         "2025-05-22T02:15:29.571+0000"
        ],
        [
         "GC=F",
         "Oro - Futuros del metal precioso",
         1,
         "COMMODITY_METAL",
         true,
         "2025-05-22T02:15:29.571+0000"
        ],
        [
         "CL=F",
         "Petróleo WTI - Futuros de crudo",
         1,
         "COMMODITY_ENERGIA",
         true,
         "2025-05-22T02:15:29.571+0000"
        ],
        [
         "EURUSD=X",
         "Euro / Dólar estadounidense",
         1,
         "DIVISA_MAYOR",
         true,
         "2025-05-22T02:15:29.571+0000"
        ],
        [
         "BTC-EUR",
         "Bitcoin en euros",
         1,
         "CRYPTO_MAYOR",
         true,
         "2025-05-22T02:15:29.571+0000"
        ],
        [
         "SAN.MC",
         "Banco Santander - Acción española",
         2,
         "ACCION_ESPAÑOLA_BANCARIA",
         true,
         "2025-05-22T02:15:29.571+0000"
        ],
        [
         "TEF.MC",
         "Telefónica - Acción española de telecomunicaciones",
         2,
         "ACCION_ESPAÑOLA_TELCO",
         true,
         "2025-05-22T02:15:29.571+0000"
        ]
       ],
       "datasetInfos": [],
       "dbfsResultPath": null,
       "isJsonSchema": true,
       "metadata": {},
       "overflow": false,
       "plotOptions": {
        "customPlotOptions": {},
        "displayType": "table",
        "pivotAggregation": null,
        "pivotColumns": null,
        "xColumns": null,
        "yColumns": null
       },
       "removedWidgets": [],
       "schema": [
        {
         "metadata": "{}",
         "name": "cod_indicador",
         "type": "\"string\""
        },
        {
         "metadata": "{}",
         "name": "descripcion",
         "type": "\"string\""
        },
        {
         "metadata": "{}",
         "name": "prioridad",
         "type": "\"integer\""
        },
        {
         "metadata": "{}",
         "name": "patron_clasificacion",
         "type": "\"string\""
        },
        {
         "metadata": "{}",
         "name": "activo",
         "type": "\"boolean\""
        },
        {
         "metadata": "{}",
         "name": "fecha_creacion",
         "type": "\"timestamp\""
        }
       ],
       "type": "table"
      }
     },
     "output_type": "display_data"
    }
   ],
   "source": [
    "%sql\n",
    "select * from finanzas_schema.indicador_parametros ;"
   ]
  },
  {
   "cell_type": "code",
   "execution_count": 0,
   "metadata": {
    "application/vnd.databricks.v1+cell": {
     "cellMetadata": {
      "byteLimit": 2048000,
      "implicitDf": true,
      "rowLimit": 10000
     },
     "inputWidgets": {},
     "nuid": "1be1b097-fab8-4816-a44f-04ac677639c4",
     "showTitle": false,
     "tableResultSettingsMap": {},
     "title": ""
    }
   },
   "outputs": [
    {
     "output_type": "display_data",
     "data": {
      "text/html": [
       "<style scoped>\n",
       "  .table-result-container {\n",
       "    max-height: 300px;\n",
       "    overflow: auto;\n",
       "  }\n",
       "  table, th, td {\n",
       "    border: 1px solid black;\n",
       "    border-collapse: collapse;\n",
       "  }\n",
       "  th, td {\n",
       "    padding: 5px;\n",
       "  }\n",
       "  th {\n",
       "    text-align: left;\n",
       "  }\n",
       "</style><div class='table-result-container'><table class='table-result'><thead style='background-color: white'><tr><th>createtab_stmt</th></tr></thead><tbody><tr><td>CREATE TABLE spark_catalog.finanzas_schema.indicador_parametros (\n",
       "  cod_indicador STRING NOT NULL,\n",
       "  descripcion STRING,\n",
       "  prioridad INT,\n",
       "  patron_clasificacion STRING,\n",
       "  activo BOOLEAN,\n",
       "  fecha_creacion TIMESTAMP)\n",
       "USING delta\n",
       "COMMENT 'Tabla de configuración y patrones para clasificación de instrumentos financieros'\n",
       "TBLPROPERTIES (\n",
       "  'delta.autoOptimize.autoCompact' = 'true',\n",
       "  'delta.autoOptimize.optimizeWrite' = 'true',\n",
       "  'delta.minReaderVersion' = '1',\n",
       "  'delta.minWriterVersion' = '2')\n",
       "</td></tr></tbody></table></div>"
      ]
     },
     "metadata": {
      "application/vnd.databricks.v1+output": {
       "addedWidgets": {},
       "aggData": [],
       "aggError": "",
       "aggOverflow": false,
       "aggSchema": [],
       "aggSeriesLimitReached": false,
       "aggType": "",
       "arguments": {},
       "columnCustomDisplayInfos": {},
       "data": [
        [
         "CREATE TABLE spark_catalog.finanzas_schema.indicador_parametros (\n  cod_indicador STRING NOT NULL,\n  descripcion STRING,\n  prioridad INT,\n  patron_clasificacion STRING,\n  activo BOOLEAN,\n  fecha_creacion TIMESTAMP)\nUSING delta\nCOMMENT 'Tabla de configuración y patrones para clasificación de instrumentos financieros'\nTBLPROPERTIES (\n  'delta.autoOptimize.autoCompact' = 'true',\n  'delta.autoOptimize.optimizeWrite' = 'true',\n  'delta.minReaderVersion' = '1',\n  'delta.minWriterVersion' = '2')\n"
        ]
       ],
       "datasetInfos": [],
       "dbfsResultPath": null,
       "isJsonSchema": true,
       "metadata": {},
       "overflow": false,
       "plotOptions": {
        "customPlotOptions": {},
        "displayType": "table",
        "pivotAggregation": null,
        "pivotColumns": null,
        "xColumns": null,
        "yColumns": null
       },
       "removedWidgets": [],
       "schema": [
        {
         "metadata": "{}",
         "name": "createtab_stmt",
         "type": "\"string\""
        }
       ],
       "type": "table"
      }
     },
     "output_type": "display_data"
    }
   ],
   "source": [
    "%sql\n",
    "SHOW CREATE TABLE finanzas_schema.indicador_parametros;"
   ]
  },
  {
   "cell_type": "code",
   "execution_count": 0,
   "metadata": {
    "application/vnd.databricks.v1+cell": {
     "cellMetadata": {
      "byteLimit": 2048000,
      "implicitDf": true,
      "rowLimit": 10000
     },
     "inputWidgets": {},
     "nuid": "c6c63a8d-3273-4c42-a5f7-498108fd0ed9",
     "showTitle": false,
     "tableResultSettingsMap": {},
     "title": ""
    }
   },
   "outputs": [
    {
     "output_type": "display_data",
     "data": {
      "text/html": [
       "<style scoped>\n",
       "  .table-result-container {\n",
       "    max-height: 300px;\n",
       "    overflow: auto;\n",
       "  }\n",
       "  table, th, td {\n",
       "    border: 1px solid black;\n",
       "    border-collapse: collapse;\n",
       "  }\n",
       "  th, td {\n",
       "    padding: 5px;\n",
       "  }\n",
       "  th {\n",
       "    text-align: left;\n",
       "  }\n",
       "</style><div class='table-result-container'><table class='table-result'><thead style='background-color: white'><tr><th>database</th><th>tableName</th><th>isTemporary</th></tr></thead><tbody><tr><td>finanzas_schema</td><td>indicador_demografico</td><td>false</td></tr><tr><td>finanzas_schema</td><td>indicador_financiero</td><td>false</td></tr><tr><td>finanzas_schema</td><td>indicador_parametros</td><td>false</td></tr></tbody></table></div>"
      ]
     },
     "metadata": {
      "application/vnd.databricks.v1+output": {
       "addedWidgets": {},
       "aggData": [],
       "aggError": "",
       "aggOverflow": false,
       "aggSchema": [],
       "aggSeriesLimitReached": false,
       "aggType": "",
       "arguments": {},
       "columnCustomDisplayInfos": {},
       "data": [
        [
         "finanzas_schema",
         "indicador_demografico",
         false
        ],
        [
         "finanzas_schema",
         "indicador_financiero",
         false
        ],
        [
         "finanzas_schema",
         "indicador_parametros",
         false
        ]
       ],
       "datasetInfos": [],
       "dbfsResultPath": null,
       "isJsonSchema": true,
       "metadata": {},
       "overflow": false,
       "plotOptions": {
        "customPlotOptions": {},
        "displayType": "table",
        "pivotAggregation": null,
        "pivotColumns": null,
        "xColumns": null,
        "yColumns": null
       },
       "removedWidgets": [],
       "schema": [
        {
         "metadata": "{}",
         "name": "database",
         "type": "\"string\""
        },
        {
         "metadata": "{}",
         "name": "tableName",
         "type": "\"string\""
        },
        {
         "metadata": "{}",
         "name": "isTemporary",
         "type": "\"boolean\""
        }
       ],
       "type": "table"
      }
     },
     "output_type": "display_data"
    }
   ],
   "source": [
    "%sql\n",
    "SHOW TABLES IN finanzas_schema;"
   ]
  },
  {
   "cell_type": "code",
   "execution_count": 0,
   "metadata": {
    "application/vnd.databricks.v1+cell": {
     "cellMetadata": {
      "byteLimit": 2048000,
      "implicitDf": true,
      "rowLimit": 10000
     },
     "inputWidgets": {},
     "nuid": "4c37aec9-1bd2-4b30-befa-e9f748d7f08b",
     "showTitle": false,
     "tableResultSettingsMap": {},
     "title": ""
    }
   },
   "outputs": [
    {
     "output_type": "display_data",
     "data": {
      "text/html": [
       "<style scoped>\n",
       "  .table-result-container {\n",
       "    max-height: 300px;\n",
       "    overflow: auto;\n",
       "  }\n",
       "  table, th, td {\n",
       "    border: 1px solid black;\n",
       "    border-collapse: collapse;\n",
       "  }\n",
       "  th, td {\n",
       "    padding: 5px;\n",
       "  }\n",
       "  th {\n",
       "    text-align: left;\n",
       "  }\n",
       "</style><div class='table-result-container'><table class='table-result'><thead style='background-color: white'><tr></tr></thead><tbody></tbody></table></div>"
      ]
     },
     "metadata": {
      "application/vnd.databricks.v1+output": {
       "addedWidgets": {},
       "aggData": [],
       "aggError": "",
       "aggOverflow": false,
       "aggSchema": [],
       "aggSeriesLimitReached": false,
       "aggType": "",
       "arguments": {},
       "columnCustomDisplayInfos": {},
       "data": [],
       "datasetInfos": [],
       "dbfsResultPath": null,
       "isJsonSchema": true,
       "metadata": {},
       "overflow": false,
       "plotOptions": {
        "customPlotOptions": {},
        "displayType": "table",
        "pivotAggregation": null,
        "pivotColumns": null,
        "xColumns": null,
        "yColumns": null
       },
       "removedWidgets": [],
       "schema": [],
       "type": "table"
      }
     },
     "output_type": "display_data"
    }
   ],
   "source": [
    "%sql\n",
    "-- TABLA 1: PARÁMETROS DE INDICADORES\n",
    "CREATE  TABLE IF NOT EXISTS finanzas_schema.indicador_parametros (\n",
    "    cod_indicador STRING,\n",
    "    descripcion STRING,\n",
    "    prioridad INT,\n",
    "    patron_clasificacion STRING,\n",
    "    activo BOOLEAN,\n",
    "    fecha_creacion TIMESTAMP\n",
    ")\n",
    "USING DELTA\n",
    "LOCATION 'dbfs:/delta/finanzas/indicador_parametros'\n",
    "COMMENT 'Tabla de configuración y patrones para clasificación de instrumentos financieros'\n",
    "TBLPROPERTIES (\n",
    "  'delta.autoOptimize.optimizeWrite' = 'true',\n",
    "  'delta.autoOptimize.autoCompact' = 'true'\n",
    ");"
   ]
  },
  {
   "cell_type": "code",
   "execution_count": 0,
   "metadata": {
    "application/vnd.databricks.v1+cell": {
     "cellMetadata": {
      "byteLimit": 2048000,
      "implicitDf": true,
      "rowLimit": 10000
     },
     "inputWidgets": {},
     "nuid": "8c9f139a-6157-45e2-b2f7-4d9a4f107334",
     "showTitle": false,
     "tableResultSettingsMap": {},
     "title": ""
    }
   },
   "outputs": [
    {
     "output_type": "display_data",
     "data": {
      "text/html": [
       "<style scoped>\n",
       "  .table-result-container {\n",
       "    max-height: 300px;\n",
       "    overflow: auto;\n",
       "  }\n",
       "  table, th, td {\n",
       "    border: 1px solid black;\n",
       "    border-collapse: collapse;\n",
       "  }\n",
       "  th, td {\n",
       "    padding: 5px;\n",
       "  }\n",
       "  th {\n",
       "    text-align: left;\n",
       "  }\n",
       "</style><div class='table-result-container'><table class='table-result'><thead style='background-color: white'><tr></tr></thead><tbody></tbody></table></div>"
      ]
     },
     "metadata": {
      "application/vnd.databricks.v1+output": {
       "addedWidgets": {},
       "aggData": [],
       "aggError": "",
       "aggOverflow": false,
       "aggSchema": [],
       "aggSeriesLimitReached": false,
       "aggType": "",
       "arguments": {},
       "columnCustomDisplayInfos": {},
       "data": [],
       "datasetInfos": [],
       "dbfsResultPath": null,
       "isJsonSchema": true,
       "metadata": {},
       "overflow": false,
       "plotOptions": {
        "customPlotOptions": {},
        "displayType": "table",
        "pivotAggregation": null,
        "pivotColumns": null,
        "xColumns": null,
        "yColumns": null
       },
       "removedWidgets": [],
       "schema": [],
       "type": "table"
      }
     },
     "output_type": "display_data"
    }
   ],
   "source": [
    "%sql\n",
    "-- TABLA 2: DATOS HISTÓRICOS FINANCIEROS\n",
    "CREATE TABLE IF NOT EXISTS finanzas_schema.indicador_financiero (\n",
    "    fecha STRING,\n",
    "    abrir DOUBLE,\n",
    "    max DOUBLE,\n",
    "    min DOUBLE,\n",
    "    cerrar DOUBLE,\n",
    "    cierre_ajustado DOUBLE,\n",
    "    volumen BIGINT,\n",
    "    cod_indicador STRING,\n",
    "    fecha_extraccion TIMESTAMP\n",
    ")\n",
    "USING DELTA\n",
    "LOCATION 'dbfs:/delta/finanzas/indicador_financiero'\n",
    "PARTITIONED BY (cod_indicador)\n",
    "COMMENT 'Tabla principal con datos históricos de instrumentos financieros'\n",
    "TBLPROPERTIES (\n",
    "  'delta.autoOptimize.optimizeWrite' = 'true',\n",
    "  'delta.autoOptimize.autoCompact' = 'true'\n",
    ");"
   ]
  },
  {
   "cell_type": "code",
   "execution_count": 0,
   "metadata": {
    "application/vnd.databricks.v1+cell": {
     "cellMetadata": {
      "byteLimit": 2048000,
      "implicitDf": true,
      "rowLimit": 10000
     },
     "inputWidgets": {},
     "nuid": "6be54dc3-e916-4f2d-b726-f0b8a5a03afd",
     "showTitle": false,
     "tableResultSettingsMap": {},
     "title": ""
    }
   },
   "outputs": [
    {
     "output_type": "display_data",
     "data": {
      "text/html": [
       "<style scoped>\n",
       "  .table-result-container {\n",
       "    max-height: 300px;\n",
       "    overflow: auto;\n",
       "  }\n",
       "  table, th, td {\n",
       "    border: 1px solid black;\n",
       "    border-collapse: collapse;\n",
       "  }\n",
       "  th, td {\n",
       "    padding: 5px;\n",
       "  }\n",
       "  th {\n",
       "    text-align: left;\n",
       "  }\n",
       "</style><div class='table-result-container'><table class='table-result'><thead style='background-color: white'><tr><th>database</th><th>tableName</th><th>isTemporary</th></tr></thead><tbody><tr><td>finanzas_schema</td><td>indicador_demografico</td><td>false</td></tr><tr><td>finanzas_schema</td><td>indicador_financiero</td><td>false</td></tr><tr><td>finanzas_schema</td><td>indicador_parametros</td><td>false</td></tr></tbody></table></div>"
      ]
     },
     "metadata": {
      "application/vnd.databricks.v1+output": {
       "addedWidgets": {},
       "aggData": [],
       "aggError": "",
       "aggOverflow": false,
       "aggSchema": [],
       "aggSeriesLimitReached": false,
       "aggType": "",
       "arguments": {},
       "columnCustomDisplayInfos": {},
       "data": [
        [
         "finanzas_schema",
         "indicador_demografico",
         false
        ],
        [
         "finanzas_schema",
         "indicador_financiero",
         false
        ],
        [
         "finanzas_schema",
         "indicador_parametros",
         false
        ]
       ],
       "datasetInfos": [],
       "dbfsResultPath": null,
       "isJsonSchema": true,
       "metadata": {},
       "overflow": false,
       "plotOptions": {
        "customPlotOptions": {},
        "displayType": "table",
        "pivotAggregation": null,
        "pivotColumns": null,
        "xColumns": null,
        "yColumns": null
       },
       "removedWidgets": [],
       "schema": [
        {
         "metadata": "{}",
         "name": "database",
         "type": "\"string\""
        },
        {
         "metadata": "{}",
         "name": "tableName",
         "type": "\"string\""
        },
        {
         "metadata": "{}",
         "name": "isTemporary",
         "type": "\"boolean\""
        }
       ],
       "type": "table"
      }
     },
     "output_type": "display_data"
    }
   ],
   "source": [
    "%sql\n",
    "SHOW TABLES IN finanzas_schema;"
   ]
  },
  {
   "cell_type": "code",
   "execution_count": 0,
   "metadata": {
    "application/vnd.databricks.v1+cell": {
     "cellMetadata": {
      "byteLimit": 2048000,
      "implicitDf": true,
      "rowLimit": 10000
     },
     "inputWidgets": {},
     "nuid": "8f8e25e1-8ed5-4336-81f1-56072297a307",
     "showTitle": false,
     "tableResultSettingsMap": {},
     "title": ""
    }
   },
   "outputs": [
    {
     "output_type": "display_data",
     "data": {
      "text/html": [
       "<style scoped>\n",
       "  .table-result-container {\n",
       "    max-height: 300px;\n",
       "    overflow: auto;\n",
       "  }\n",
       "  table, th, td {\n",
       "    border: 1px solid black;\n",
       "    border-collapse: collapse;\n",
       "  }\n",
       "  th, td {\n",
       "    padding: 5px;\n",
       "  }\n",
       "  th {\n",
       "    text-align: left;\n",
       "  }\n",
       "</style><div class='table-result-container'><table class='table-result'><thead style='background-color: white'><tr></tr></thead><tbody></tbody></table></div>"
      ]
     },
     "metadata": {
      "application/vnd.databricks.v1+output": {
       "addedWidgets": {},
       "aggData": [],
       "aggError": "",
       "aggOverflow": false,
       "aggSchema": [],
       "aggSeriesLimitReached": false,
       "aggType": "",
       "arguments": {},
       "columnCustomDisplayInfos": {},
       "data": [],
       "datasetInfos": [],
       "dbfsResultPath": null,
       "isJsonSchema": true,
       "metadata": {},
       "overflow": false,
       "plotOptions": {
        "customPlotOptions": {},
        "displayType": "table",
        "pivotAggregation": null,
        "pivotColumns": null,
        "xColumns": null,
        "yColumns": null
       },
       "removedWidgets": [],
       "schema": [],
       "type": "table"
      }
     },
     "output_type": "display_data"
    }
   ],
   "source": [
    "%sql\n",
    "-- TABLA 3: METADATOS DEMOGRÁFICOS\n",
    "CREATE TABLE IF NOT EXISTS finanzas_schema.indicador_demografico (\n",
    "    cod_indicador STRING,\n",
    "    nombre STRING,\n",
    "    pais STRING,\n",
    "    clasificacion STRING,\n",
    "    moneda STRING,\n",
    "    mercado STRING,\n",
    "    fecha_actualizacion TIMESTAMP,\n",
    "    activo BOOLEAN\n",
    ")\n",
    "USING DELTA\n",
    "LOCATION 'dbfs:/delta/finanzas/indicador_demografico'\n",
    "COMMENT 'Tabla maestro de metadatos e información demográfica de instrumentos financieros'\n",
    "TBLPROPERTIES (\n",
    "  'delta.autoOptimize.optimizeWrite' = 'true',\n",
    "  'delta.autoOptimize.autoCompact' = 'true'\n",
    ");\n"
   ]
  },
  {
   "cell_type": "code",
   "execution_count": 0,
   "metadata": {
    "application/vnd.databricks.v1+cell": {
     "cellMetadata": {
      "byteLimit": 2048000,
      "implicitDf": true,
      "rowLimit": 10000
     },
     "inputWidgets": {},
     "nuid": "a473291d-2d47-4df9-8e56-b3c1226bd9dd",
     "showTitle": false,
     "tableResultSettingsMap": {},
     "title": ""
    }
   },
   "outputs": [
    {
     "output_type": "display_data",
     "data": {
      "text/html": [
       "<style scoped>\n",
       "  .table-result-container {\n",
       "    max-height: 300px;\n",
       "    overflow: auto;\n",
       "  }\n",
       "  table, th, td {\n",
       "    border: 1px solid black;\n",
       "    border-collapse: collapse;\n",
       "  }\n",
       "  th, td {\n",
       "    padding: 5px;\n",
       "  }\n",
       "  th {\n",
       "    text-align: left;\n",
       "  }\n",
       "</style><div class='table-result-container'><table class='table-result'><thead style='background-color: white'><tr><th>database</th><th>tableName</th><th>isTemporary</th></tr></thead><tbody><tr><td>finanzas_schema</td><td>indicador_demografico</td><td>false</td></tr><tr><td>finanzas_schema</td><td>indicador_financiero</td><td>false</td></tr><tr><td>finanzas_schema</td><td>indicador_parametros</td><td>false</td></tr></tbody></table></div>"
      ]
     },
     "metadata": {
      "application/vnd.databricks.v1+output": {
       "addedWidgets": {},
       "aggData": [],
       "aggError": "",
       "aggOverflow": false,
       "aggSchema": [],
       "aggSeriesLimitReached": false,
       "aggType": "",
       "arguments": {},
       "columnCustomDisplayInfos": {},
       "data": [
        [
         "finanzas_schema",
         "indicador_demografico",
         false
        ],
        [
         "finanzas_schema",
         "indicador_financiero",
         false
        ],
        [
         "finanzas_schema",
         "indicador_parametros",
         false
        ]
       ],
       "datasetInfos": [],
       "dbfsResultPath": null,
       "isJsonSchema": true,
       "metadata": {},
       "overflow": false,
       "plotOptions": {
        "customPlotOptions": {},
        "displayType": "table",
        "pivotAggregation": null,
        "pivotColumns": null,
        "xColumns": null,
        "yColumns": null
       },
       "removedWidgets": [],
       "schema": [
        {
         "metadata": "{}",
         "name": "database",
         "type": "\"string\""
        },
        {
         "metadata": "{}",
         "name": "tableName",
         "type": "\"string\""
        },
        {
         "metadata": "{}",
         "name": "isTemporary",
         "type": "\"boolean\""
        }
       ],
       "type": "table"
      }
     },
     "output_type": "display_data"
    }
   ],
   "source": [
    "%sql\n",
    "SHOW TABLES IN finanzas_schema;"
   ]
  },
  {
   "cell_type": "code",
   "execution_count": 0,
   "metadata": {
    "application/vnd.databricks.v1+cell": {
     "cellMetadata": {
      "byteLimit": 2048000,
      "implicitDf": true,
      "rowLimit": 10000
     },
     "inputWidgets": {},
     "nuid": "028fcf0d-f49f-410c-b202-4820f8099405",
     "showTitle": false,
     "tableResultSettingsMap": {},
     "title": ""
    }
   },
   "outputs": [
    {
     "output_type": "display_data",
     "data": {
      "text/html": [
       "<style scoped>\n",
       "  .table-result-container {\n",
       "    max-height: 300px;\n",
       "    overflow: auto;\n",
       "  }\n",
       "  table, th, td {\n",
       "    border: 1px solid black;\n",
       "    border-collapse: collapse;\n",
       "  }\n",
       "  th, td {\n",
       "    padding: 5px;\n",
       "  }\n",
       "  th {\n",
       "    text-align: left;\n",
       "  }\n",
       "</style><div class='table-result-container'><table class='table-result'><thead style='background-color: white'><tr><th>col_name</th><th>data_type</th><th>comment</th></tr></thead><tbody><tr><td>cod_indicador</td><td>string</td><td>null</td></tr><tr><td>descripcion</td><td>string</td><td>null</td></tr><tr><td>prioridad</td><td>int</td><td>null</td></tr><tr><td>patron_clasificacion</td><td>string</td><td>null</td></tr><tr><td>activo</td><td>boolean</td><td>null</td></tr><tr><td>fecha_creacion</td><td>timestamp</td><td>null</td></tr><tr><td></td><td></td><td></td></tr><tr><td># Detailed Table Information</td><td></td><td></td></tr><tr><td>Catalog</td><td>spark_catalog</td><td></td></tr><tr><td>Database</td><td>finanzas_schema</td><td></td></tr><tr><td>Table</td><td>indicador_parametros</td><td></td></tr><tr><td>Created Time</td><td>Thu May 22 02:07:56 UTC 2025</td><td></td></tr><tr><td>Last Access</td><td>UNKNOWN</td><td></td></tr><tr><td>Created By</td><td>Spark 3.3.2</td><td></td></tr><tr><td>Type</td><td>MANAGED</td><td></td></tr><tr><td>Comment</td><td>Tabla de configuración y patrones para clasificación de instrumentos financieros</td><td></td></tr><tr><td>Location</td><td>dbfs:/user/hive/warehouse/finanzas_schema.db/indicador_parametros</td><td></td></tr><tr><td>Provider</td><td>delta</td><td></td></tr><tr><td>Owner</td><td>root</td><td></td></tr><tr><td>Is_managed_location</td><td>true</td><td></td></tr><tr><td>Table Properties</td><td>[delta.autoOptimize.autoCompact=true,delta.autoOptimize.optimizeWrite=true,delta.minReaderVersion=1,delta.minWriterVersion=2]</td><td></td></tr></tbody></table></div>"
      ]
     },
     "metadata": {
      "application/vnd.databricks.v1+output": {
       "addedWidgets": {},
       "aggData": [],
       "aggError": "",
       "aggOverflow": false,
       "aggSchema": [],
       "aggSeriesLimitReached": false,
       "aggType": "",
       "arguments": {},
       "columnCustomDisplayInfos": {},
       "data": [
        [
         "cod_indicador",
         "string",
         null
        ],
        [
         "descripcion",
         "string",
         null
        ],
        [
         "prioridad",
         "int",
         null
        ],
        [
         "patron_clasificacion",
         "string",
         null
        ],
        [
         "activo",
         "boolean",
         null
        ],
        [
         "fecha_creacion",
         "timestamp",
         null
        ],
        [
         "",
         "",
         ""
        ],
        [
         "# Detailed Table Information",
         "",
         ""
        ],
        [
         "Catalog",
         "spark_catalog",
         ""
        ],
        [
         "Database",
         "finanzas_schema",
         ""
        ],
        [
         "Table",
         "indicador_parametros",
         ""
        ],
        [
         "Created Time",
         "Thu May 22 02:07:56 UTC 2025",
         ""
        ],
        [
         "Last Access",
         "UNKNOWN",
         ""
        ],
        [
         "Created By",
         "Spark 3.3.2",
         ""
        ],
        [
         "Type",
         "MANAGED",
         ""
        ],
        [
         "Comment",
         "Tabla de configuración y patrones para clasificación de instrumentos financieros",
         ""
        ],
        [
         "Location",
         "dbfs:/user/hive/warehouse/finanzas_schema.db/indicador_parametros",
         ""
        ],
        [
         "Provider",
         "delta",
         ""
        ],
        [
         "Owner",
         "root",
         ""
        ],
        [
         "Is_managed_location",
         "true",
         ""
        ],
        [
         "Table Properties",
         "[delta.autoOptimize.autoCompact=true,delta.autoOptimize.optimizeWrite=true,delta.minReaderVersion=1,delta.minWriterVersion=2]",
         ""
        ]
       ],
       "datasetInfos": [],
       "dbfsResultPath": null,
       "isJsonSchema": true,
       "metadata": {},
       "overflow": false,
       "plotOptions": {
        "customPlotOptions": {},
        "displayType": "table",
        "pivotAggregation": null,
        "pivotColumns": null,
        "xColumns": null,
        "yColumns": null
       },
       "removedWidgets": [],
       "schema": [
        {
         "metadata": "{\"comment\":\"name of the column\"}",
         "name": "col_name",
         "type": "\"string\""
        },
        {
         "metadata": "{\"comment\":\"data type of the column\"}",
         "name": "data_type",
         "type": "\"string\""
        },
        {
         "metadata": "{\"comment\":\"comment of the column\"}",
         "name": "comment",
         "type": "\"string\""
        }
       ],
       "type": "table"
      }
     },
     "output_type": "display_data"
    }
   ],
   "source": [
    "%sql\n",
    "DESCRIBE EXTENDED finanzas_schema.indicador_parametros;"
   ]
  },
  {
   "cell_type": "code",
   "execution_count": 0,
   "metadata": {
    "application/vnd.databricks.v1+cell": {
     "cellMetadata": {
      "byteLimit": 2048000,
      "implicitDf": true,
      "rowLimit": 10000
     },
     "inputWidgets": {},
     "nuid": "e886be5d-e7a3-41b9-8978-bbcc83fcd45d",
     "showTitle": false,
     "tableResultSettingsMap": {},
     "title": ""
    }
   },
   "outputs": [
    {
     "output_type": "display_data",
     "data": {
      "text/html": [
       "<style scoped>\n",
       "  .table-result-container {\n",
       "    max-height: 300px;\n",
       "    overflow: auto;\n",
       "  }\n",
       "  table, th, td {\n",
       "    border: 1px solid black;\n",
       "    border-collapse: collapse;\n",
       "  }\n",
       "  th, td {\n",
       "    padding: 5px;\n",
       "  }\n",
       "  th {\n",
       "    text-align: left;\n",
       "  }\n",
       "</style><div class='table-result-container'><table class='table-result'><thead style='background-color: white'><tr><th>col_name</th><th>data_type</th><th>comment</th></tr></thead><tbody><tr><td>fecha</td><td>string</td><td>null</td></tr><tr><td>abrir</td><td>double</td><td>null</td></tr><tr><td>max</td><td>double</td><td>null</td></tr><tr><td>min</td><td>double</td><td>null</td></tr><tr><td>cerrar</td><td>double</td><td>null</td></tr><tr><td>cierre_ajustado</td><td>double</td><td>null</td></tr><tr><td>volumen</td><td>bigint</td><td>null</td></tr><tr><td>cod_indicador</td><td>string</td><td>null</td></tr><tr><td>fecha_extraccion</td><td>timestamp</td><td>null</td></tr><tr><td># Partition Information</td><td></td><td></td></tr><tr><td># col_name</td><td>data_type</td><td>comment</td></tr><tr><td>cod_indicador</td><td>string</td><td>null</td></tr><tr><td></td><td></td><td></td></tr><tr><td># Detailed Table Information</td><td></td><td></td></tr><tr><td>Catalog</td><td>spark_catalog</td><td></td></tr><tr><td>Database</td><td>finanzas_schema</td><td></td></tr><tr><td>Table</td><td>indicador_financiero</td><td></td></tr><tr><td>Created Time</td><td>Thu May 22 01:06:59 UTC 2025</td><td></td></tr><tr><td>Last Access</td><td>UNKNOWN</td><td></td></tr><tr><td>Created By</td><td>Spark 3.3.2</td><td></td></tr><tr><td>Type</td><td>EXTERNAL</td><td></td></tr><tr><td>Comment</td><td>Tabla principal con datos históricos de instrumentos financieros</td><td></td></tr><tr><td>Location</td><td>dbfs:/delta/finanzas/indicador_financiero</td><td></td></tr><tr><td>Provider</td><td>delta</td><td></td></tr><tr><td>Owner</td><td>root</td><td></td></tr><tr><td>Table Properties</td><td>[delta.autoOptimize.autoCompact=true,delta.autoOptimize.optimizeWrite=true,delta.minReaderVersion=1,delta.minWriterVersion=2]</td><td></td></tr></tbody></table></div>"
      ]
     },
     "metadata": {
      "application/vnd.databricks.v1+output": {
       "addedWidgets": {},
       "aggData": [],
       "aggError": "",
       "aggOverflow": false,
       "aggSchema": [],
       "aggSeriesLimitReached": false,
       "aggType": "",
       "arguments": {},
       "columnCustomDisplayInfos": {},
       "data": [
        [
         "fecha",
         "string",
         null
        ],
        [
         "abrir",
         "double",
         null
        ],
        [
         "max",
         "double",
         null
        ],
        [
         "min",
         "double",
         null
        ],
        [
         "cerrar",
         "double",
         null
        ],
        [
         "cierre_ajustado",
         "double",
         null
        ],
        [
         "volumen",
         "bigint",
         null
        ],
        [
         "cod_indicador",
         "string",
         null
        ],
        [
         "fecha_extraccion",
         "timestamp",
         null
        ],
        [
         "# Partition Information",
         "",
         ""
        ],
        [
         "# col_name",
         "data_type",
         "comment"
        ],
        [
         "cod_indicador",
         "string",
         null
        ],
        [
         "",
         "",
         ""
        ],
        [
         "# Detailed Table Information",
         "",
         ""
        ],
        [
         "Catalog",
         "spark_catalog",
         ""
        ],
        [
         "Database",
         "finanzas_schema",
         ""
        ],
        [
         "Table",
         "indicador_financiero",
         ""
        ],
        [
         "Created Time",
         "Thu May 22 01:06:59 UTC 2025",
         ""
        ],
        [
         "Last Access",
         "UNKNOWN",
         ""
        ],
        [
         "Created By",
         "Spark 3.3.2",
         ""
        ],
        [
         "Type",
         "EXTERNAL",
         ""
        ],
        [
         "Comment",
         "Tabla principal con datos históricos de instrumentos financieros",
         ""
        ],
        [
         "Location",
         "dbfs:/delta/finanzas/indicador_financiero",
         ""
        ],
        [
         "Provider",
         "delta",
         ""
        ],
        [
         "Owner",
         "root",
         ""
        ],
        [
         "Table Properties",
         "[delta.autoOptimize.autoCompact=true,delta.autoOptimize.optimizeWrite=true,delta.minReaderVersion=1,delta.minWriterVersion=2]",
         ""
        ]
       ],
       "datasetInfos": [],
       "dbfsResultPath": null,
       "isJsonSchema": true,
       "metadata": {},
       "overflow": false,
       "plotOptions": {
        "customPlotOptions": {},
        "displayType": "table",
        "pivotAggregation": null,
        "pivotColumns": null,
        "xColumns": null,
        "yColumns": null
       },
       "removedWidgets": [],
       "schema": [
        {
         "metadata": "{\"comment\":\"name of the column\"}",
         "name": "col_name",
         "type": "\"string\""
        },
        {
         "metadata": "{\"comment\":\"data type of the column\"}",
         "name": "data_type",
         "type": "\"string\""
        },
        {
         "metadata": "{\"comment\":\"comment of the column\"}",
         "name": "comment",
         "type": "\"string\""
        }
       ],
       "type": "table"
      }
     },
     "output_type": "display_data"
    }
   ],
   "source": [
    "%sql\n",
    "DESCRIBE EXTENDED finanzas_schema.indicador_financiero;\n"
   ]
  },
  {
   "cell_type": "code",
   "execution_count": 0,
   "metadata": {
    "application/vnd.databricks.v1+cell": {
     "cellMetadata": {
      "byteLimit": 2048000,
      "implicitDf": true,
      "rowLimit": 10000
     },
     "inputWidgets": {},
     "nuid": "8df0d89d-264d-4e82-ac88-7cfe538ebb8c",
     "showTitle": false,
     "tableResultSettingsMap": {},
     "title": ""
    }
   },
   "outputs": [
    {
     "output_type": "display_data",
     "data": {
      "text/html": [
       "<style scoped>\n",
       "  .table-result-container {\n",
       "    max-height: 300px;\n",
       "    overflow: auto;\n",
       "  }\n",
       "  table, th, td {\n",
       "    border: 1px solid black;\n",
       "    border-collapse: collapse;\n",
       "  }\n",
       "  th, td {\n",
       "    padding: 5px;\n",
       "  }\n",
       "  th {\n",
       "    text-align: left;\n",
       "  }\n",
       "</style><div class='table-result-container'><table class='table-result'><thead style='background-color: white'><tr><th>col_name</th><th>data_type</th><th>comment</th></tr></thead><tbody><tr><td>cod_indicador</td><td>string</td><td>null</td></tr><tr><td>nombre</td><td>string</td><td>null</td></tr><tr><td>pais</td><td>string</td><td>null</td></tr><tr><td>clasificacion</td><td>string</td><td>null</td></tr><tr><td>moneda</td><td>string</td><td>null</td></tr><tr><td>mercado</td><td>string</td><td>null</td></tr><tr><td>fecha_actualizacion</td><td>timestamp</td><td>null</td></tr><tr><td>activo</td><td>boolean</td><td>null</td></tr><tr><td></td><td></td><td></td></tr><tr><td># Detailed Table Information</td><td></td><td></td></tr><tr><td>Catalog</td><td>spark_catalog</td><td></td></tr><tr><td>Database</td><td>finanzas_schema</td><td></td></tr><tr><td>Table</td><td>indicador_demografico</td><td></td></tr><tr><td>Created Time</td><td>Thu May 22 01:07:55 UTC 2025</td><td></td></tr><tr><td>Last Access</td><td>UNKNOWN</td><td></td></tr><tr><td>Created By</td><td>Spark 3.3.2</td><td></td></tr><tr><td>Type</td><td>EXTERNAL</td><td></td></tr><tr><td>Comment</td><td>Tabla maestro de metadatos e información demográfica de instrumentos financieros</td><td></td></tr><tr><td>Location</td><td>dbfs:/delta/finanzas/indicador_demografico</td><td></td></tr><tr><td>Provider</td><td>delta</td><td></td></tr><tr><td>Owner</td><td>root</td><td></td></tr><tr><td>Table Properties</td><td>[delta.autoOptimize.autoCompact=true,delta.autoOptimize.optimizeWrite=true,delta.minReaderVersion=1,delta.minWriterVersion=2]</td><td></td></tr></tbody></table></div>"
      ]
     },
     "metadata": {
      "application/vnd.databricks.v1+output": {
       "addedWidgets": {},
       "aggData": [],
       "aggError": "",
       "aggOverflow": false,
       "aggSchema": [],
       "aggSeriesLimitReached": false,
       "aggType": "",
       "arguments": {},
       "columnCustomDisplayInfos": {},
       "data": [
        [
         "cod_indicador",
         "string",
         null
        ],
        [
         "nombre",
         "string",
         null
        ],
        [
         "pais",
         "string",
         null
        ],
        [
         "clasificacion",
         "string",
         null
        ],
        [
         "moneda",
         "string",
         null
        ],
        [
         "mercado",
         "string",
         null
        ],
        [
         "fecha_actualizacion",
         "timestamp",
         null
        ],
        [
         "activo",
         "boolean",
         null
        ],
        [
         "",
         "",
         ""
        ],
        [
         "# Detailed Table Information",
         "",
         ""
        ],
        [
         "Catalog",
         "spark_catalog",
         ""
        ],
        [
         "Database",
         "finanzas_schema",
         ""
        ],
        [
         "Table",
         "indicador_demografico",
         ""
        ],
        [
         "Created Time",
         "Thu May 22 01:07:55 UTC 2025",
         ""
        ],
        [
         "Last Access",
         "UNKNOWN",
         ""
        ],
        [
         "Created By",
         "Spark 3.3.2",
         ""
        ],
        [
         "Type",
         "EXTERNAL",
         ""
        ],
        [
         "Comment",
         "Tabla maestro de metadatos e información demográfica de instrumentos financieros",
         ""
        ],
        [
         "Location",
         "dbfs:/delta/finanzas/indicador_demografico",
         ""
        ],
        [
         "Provider",
         "delta",
         ""
        ],
        [
         "Owner",
         "root",
         ""
        ],
        [
         "Table Properties",
         "[delta.autoOptimize.autoCompact=true,delta.autoOptimize.optimizeWrite=true,delta.minReaderVersion=1,delta.minWriterVersion=2]",
         ""
        ]
       ],
       "datasetInfos": [],
       "dbfsResultPath": null,
       "isJsonSchema": true,
       "metadata": {},
       "overflow": false,
       "plotOptions": {
        "customPlotOptions": {},
        "displayType": "table",
        "pivotAggregation": null,
        "pivotColumns": null,
        "xColumns": null,
        "yColumns": null
       },
       "removedWidgets": [],
       "schema": [
        {
         "metadata": "{\"comment\":\"name of the column\"}",
         "name": "col_name",
         "type": "\"string\""
        },
        {
         "metadata": "{\"comment\":\"data type of the column\"}",
         "name": "data_type",
         "type": "\"string\""
        },
        {
         "metadata": "{\"comment\":\"comment of the column\"}",
         "name": "comment",
         "type": "\"string\""
        }
       ],
       "type": "table"
      }
     },
     "output_type": "display_data"
    }
   ],
   "source": [
    "%sql\n",
    "DESCRIBE EXTENDED finanzas_schema.indicador_demografico;"
   ]
  },
  {
   "cell_type": "markdown",
   "metadata": {
    "application/vnd.databricks.v1+cell": {
     "cellMetadata": {},
     "inputWidgets": {},
     "nuid": "7edbdc0a-8f52-4060-8cae-3900517c420e",
     "showTitle": false,
     "tableResultSettingsMap": {},
     "title": ""
    }
   },
   "source": [
    "### # Paso 4: Poblar Tabla de Parámetros"
   ]
  },
  {
   "cell_type": "code",
   "execution_count": 0,
   "metadata": {
    "application/vnd.databricks.v1+cell": {
     "cellMetadata": {
      "byteLimit": 2048000,
      "implicitDf": true,
      "rowLimit": 10000
     },
     "inputWidgets": {},
     "nuid": "bcd96683-56cf-4fe3-92eb-af8515872ed9",
     "showTitle": false,
     "tableResultSettingsMap": {},
     "title": ""
    }
   },
   "outputs": [
    {
     "output_type": "display_data",
     "data": {
      "text/html": [
       "<style scoped>\n",
       "  .table-result-container {\n",
       "    max-height: 300px;\n",
       "    overflow: auto;\n",
       "  }\n",
       "  table, th, td {\n",
       "    border: 1px solid black;\n",
       "    border-collapse: collapse;\n",
       "  }\n",
       "  th, td {\n",
       "    padding: 5px;\n",
       "  }\n",
       "  th {\n",
       "    text-align: left;\n",
       "  }\n",
       "</style><div class='table-result-container'><table class='table-result'><thead style='background-color: white'><tr><th>num_affected_rows</th><th>num_inserted_rows</th></tr></thead><tbody><tr><td>9</td><td>9</td></tr></tbody></table></div>"
      ]
     },
     "metadata": {
      "application/vnd.databricks.v1+output": {
       "addedWidgets": {},
       "aggData": [],
       "aggError": "",
       "aggOverflow": false,
       "aggSchema": [],
       "aggSeriesLimitReached": false,
       "aggType": "",
       "arguments": {},
       "columnCustomDisplayInfos": {},
       "data": [
        [
         9,
         9
        ]
       ],
       "datasetInfos": [],
       "dbfsResultPath": null,
       "isJsonSchema": true,
       "metadata": {},
       "overflow": false,
       "plotOptions": {
        "customPlotOptions": {},
        "displayType": "table",
        "pivotAggregation": null,
        "pivotColumns": null,
        "xColumns": null,
        "yColumns": null
       },
       "removedWidgets": [],
       "schema": [
        {
         "metadata": "{}",
         "name": "num_affected_rows",
         "type": "\"long\""
        },
        {
         "metadata": "{}",
         "name": "num_inserted_rows",
         "type": "\"long\""
        }
       ],
       "type": "table"
      }
     },
     "output_type": "display_data"
    }
   ],
   "source": [
    "%sql\n",
    "-- =================================================\n",
    "-- POBLAR TABLA DE PARÁMETROS\n",
    "-- =================================================\n",
    "INSERT INTO finanzas_schema.indicador_parametros VALUES\n",
    "-- ÍNDICES BURSÁTILES\n",
    "('^STOXX50E', 'Euro Stoxx 50 - Índice de las 50 principales empresas de la eurozona', 1, 'INDICE_EUROPEO', true, current_timestamp()),\n",
    "('^IBEX', 'IBEX 35 - Índice principal de la bolsa española', 1, 'INDICE_ESPAÑOL', true, current_timestamp()),\n",
    "('^FCHI', 'CAC 40 - Índice de la bolsa de París', 1, 'INDICE_FRANCES', true, current_timestamp()),\n",
    "\n",
    "-- COMMODITIES\n",
    "('GC=F', 'Oro - Futuros del metal precioso', 1, 'COMMODITY_METAL', true, current_timestamp()),\n",
    "('CL=F', 'Petróleo WTI - Futuros de crudo', 1, 'COMMODITY_ENERGIA', true, current_timestamp()),\n",
    "\n",
    "-- DIVISAS\n",
    "('EURUSD=X', 'Euro / Dólar estadounidense', 1, 'DIVISA_MAYOR', true, current_timestamp()),\n",
    "\n",
    "-- CRIPTOMONEDAS\n",
    "('BTC-EUR', 'Bitcoin en euros', 1, 'CRYPTO_MAYOR', true, current_timestamp()),\n",
    "\n",
    "-- ACCIONES ESPAÑOLAS (muestra)\n",
    "('SAN.MC', 'Banco Santander - Acción española', 2, 'ACCION_ESPAÑOLA_BANCARIA', true, current_timestamp()),\n",
    "('TEF.MC', 'Telefónica - Acción española de telecomunicaciones', 2, 'ACCION_ESPAÑOLA_TELCO', true, current_timestamp());"
   ]
  },
  {
   "cell_type": "code",
   "execution_count": 0,
   "metadata": {
    "application/vnd.databricks.v1+cell": {
     "cellMetadata": {
      "byteLimit": 2048000,
      "implicitDf": true,
      "rowLimit": 10000
     },
     "inputWidgets": {},
     "nuid": "afd11025-53ee-4f30-b34c-b08f8b123cf5",
     "showTitle": false,
     "tableResultSettingsMap": {},
     "title": ""
    }
   },
   "outputs": [
    {
     "output_type": "display_data",
     "data": {
      "text/html": [
       "<style scoped>\n",
       "  .table-result-container {\n",
       "    max-height: 300px;\n",
       "    overflow: auto;\n",
       "  }\n",
       "  table, th, td {\n",
       "    border: 1px solid black;\n",
       "    border-collapse: collapse;\n",
       "  }\n",
       "  th, td {\n",
       "    padding: 5px;\n",
       "  }\n",
       "  th {\n",
       "    text-align: left;\n",
       "  }\n",
       "</style><div class='table-result-container'><table class='table-result'><thead style='background-color: white'><tr><th>cod_indicador</th><th>descripcion</th><th>patron_clasificacion</th><th>prioridad</th><th>activo</th></tr></thead><tbody><tr><td>BTC-EUR</td><td>Bitcoin en euros</td><td>CRYPTO_MAYOR</td><td>1</td><td>true</td></tr><tr><td>CL=F</td><td>Petróleo WTI - Futuros de crudo</td><td>COMMODITY_ENERGIA</td><td>1</td><td>true</td></tr><tr><td>EURUSD=X</td><td>Euro / Dólar estadounidense</td><td>DIVISA_MAYOR</td><td>1</td><td>true</td></tr><tr><td>GC=F</td><td>Oro - Futuros del metal precioso</td><td>COMMODITY_METAL</td><td>1</td><td>true</td></tr><tr><td>^FCHI</td><td>CAC 40 - Índice de la bolsa de París</td><td>INDICE_FRANCES</td><td>1</td><td>true</td></tr><tr><td>^IBEX</td><td>IBEX 35 - Índice principal de la bolsa española</td><td>INDICE_ESPAÑOL</td><td>1</td><td>true</td></tr><tr><td>^STOXX50E</td><td>Euro Stoxx 50 - Índice de las 50 principales empresas de la eurozona</td><td>INDICE_EUROPEO</td><td>1</td><td>true</td></tr><tr><td>SAN.MC</td><td>Banco Santander - Acción española</td><td>ACCION_ESPAÑOLA_BANCARIA</td><td>2</td><td>true</td></tr><tr><td>TEF.MC</td><td>Telefónica - Acción española de telecomunicaciones</td><td>ACCION_ESPAÑOLA_TELCO</td><td>2</td><td>true</td></tr></tbody></table></div>"
      ]
     },
     "metadata": {
      "application/vnd.databricks.v1+output": {
       "addedWidgets": {},
       "aggData": [],
       "aggError": "",
       "aggOverflow": false,
       "aggSchema": [],
       "aggSeriesLimitReached": false,
       "aggType": "",
       "arguments": {},
       "columnCustomDisplayInfos": {},
       "data": [
        [
         "BTC-EUR",
         "Bitcoin en euros",
         "CRYPTO_MAYOR",
         1,
         true
        ],
        [
         "CL=F",
         "Petróleo WTI - Futuros de crudo",
         "COMMODITY_ENERGIA",
         1,
         true
        ],
        [
         "EURUSD=X",
         "Euro / Dólar estadounidense",
         "DIVISA_MAYOR",
         1,
         true
        ],
        [
         "GC=F",
         "Oro - Futuros del metal precioso",
         "COMMODITY_METAL",
         1,
         true
        ],
        [
         "^FCHI",
         "CAC 40 - Índice de la bolsa de París",
         "INDICE_FRANCES",
         1,
         true
        ],
        [
         "^IBEX",
         "IBEX 35 - Índice principal de la bolsa española",
         "INDICE_ESPAÑOL",
         1,
         true
        ],
        [
         "^STOXX50E",
         "Euro Stoxx 50 - Índice de las 50 principales empresas de la eurozona",
         "INDICE_EUROPEO",
         1,
         true
        ],
        [
         "SAN.MC",
         "Banco Santander - Acción española",
         "ACCION_ESPAÑOLA_BANCARIA",
         2,
         true
        ],
        [
         "TEF.MC",
         "Telefónica - Acción española de telecomunicaciones",
         "ACCION_ESPAÑOLA_TELCO",
         2,
         true
        ]
       ],
       "datasetInfos": [],
       "dbfsResultPath": null,
       "isJsonSchema": true,
       "metadata": {},
       "overflow": false,
       "plotOptions": {
        "customPlotOptions": {},
        "displayType": "table",
        "pivotAggregation": null,
        "pivotColumns": null,
        "xColumns": null,
        "yColumns": null
       },
       "removedWidgets": [],
       "schema": [
        {
         "metadata": "{}",
         "name": "cod_indicador",
         "type": "\"string\""
        },
        {
         "metadata": "{}",
         "name": "descripcion",
         "type": "\"string\""
        },
        {
         "metadata": "{}",
         "name": "patron_clasificacion",
         "type": "\"string\""
        },
        {
         "metadata": "{}",
         "name": "prioridad",
         "type": "\"integer\""
        },
        {
         "metadata": "{}",
         "name": "activo",
         "type": "\"boolean\""
        }
       ],
       "type": "table"
      }
     },
     "output_type": "display_data"
    }
   ],
   "source": [
    "%sql\n",
    "SELECT 'Parámetros insertados:' as info, COUNT(*) as cantidad \n",
    "FROM finanzas_schema.indicador_parametros;\n",
    "\n",
    "-- Mostrar configuración\n",
    "SELECT \n",
    "    cod_indicador, \n",
    "    descripcion, \n",
    "    patron_clasificacion, \n",
    "    prioridad,\n",
    "    activo\n",
    "FROM finanzas_schema.indicador_parametros \n",
    "ORDER BY prioridad, cod_indicador;"
   ]
  },
  {
   "cell_type": "markdown",
   "metadata": {
    "application/vnd.databricks.v1+cell": {
     "cellMetadata": {},
     "inputWidgets": {},
     "nuid": "08b909d9-5564-40ee-8c05-ae2aaf70c7a6",
     "showTitle": false,
     "tableResultSettingsMap": {},
     "title": ""
    }
   },
   "source": [
    "# Paso 5: Pipeline de Extracción y Carga"
   ]
  },
  {
   "cell_type": "code",
   "execution_count": 0,
   "metadata": {
    "application/vnd.databricks.v1+cell": {
     "cellMetadata": {
      "byteLimit": 2048000,
      "rowLimit": 10000
     },
     "inputWidgets": {},
     "nuid": "93c4c438-dffa-4f7f-842b-78bf81c4aa2c",
     "showTitle": false,
     "tableResultSettingsMap": {},
     "title": ""
    }
   },
   "outputs": [],
   "source": [
    "# =================================================\n",
    "# PASO 5: PIPELINE DE EXTRACCIÓN Y CARGA COMPLETO\n",
    "# =================================================\n",
    "\n",
    "import time\n",
    "from pyspark.sql.functions import current_timestamp, lit, col\n",
    "from pyspark.sql.types import StructType, StructField, StringType, IntegerType, BooleanType, TimestampType, DoubleType, LongType\n",
    "\n",
    "def pipeline_extraccion_completo():\n",
    "    \"\"\"\n",
    "    Pipeline ETL completo para datos financieros\n",
    "    Extrae, transforma y carga datos de Yahoo Finance a Delta Lake\n",
    "    \"\"\"\n",
    "    \n",
    "    print(\"🚀 INICIANDO PIPELINE ETL FINANCIERO\")\n",
    "    print(\"=\" * 50)\n",
    "    \n",
    "    # VERIFICAR PRERREQUISITOS\n",
    "    try:\n",
    "        count_parametros = spark.sql(\"SELECT COUNT(*) as count FROM finanzas_schema.indicador_parametros\").collect()[0]['count']\n",
    "        print(f\"✅ Tabla de parámetros verificada: {count_parametros} indicadores configurados\")\n",
    "        \n",
    "        if count_parametros == 0:\n",
    "            print(\"❌ La tabla de parámetros está vacía. Ejecuta primero el setup del esquema.\")\n",
    "            return None\n",
    "            \n",
    "    except Exception as e:\n",
    "        print(f\"❌ Error verificando prerrequisitos: {str(e)}\")\n",
    "        print(\"💡 Ejecuta primero: setup_completo() o el script SQL de creación de tablas\")\n",
    "        return None\n",
    "    \n",
    "    # OBTENER INDICADORES ACTIVOS\n",
    "    print(\"\\n📋 Obteniendo lista de indicadores activos...\")\n",
    "    indicadores_df = spark.sql(\"\"\"\n",
    "        SELECT cod_indicador, descripcion, prioridad, patron_clasificacion\n",
    "        FROM finanzas_schema.indicador_parametros \n",
    "        WHERE activo = true \n",
    "        ORDER BY prioridad, cod_indicador\n",
    "    \"\"\")\n",
    "    \n",
    "    print(\"📊 Indicadores a procesar:\")\n",
    "    indicadores_df.show(truncate=False)\n",
    "    \n",
    "    indicadores_list = [row['cod_indicador'] for row in indicadores_df.collect()]\n",
    "    \n",
    "    # INICIALIZAR EXTRACTOR DE DATOS\n",
    "    print(f\"\\n⚡ Inicializando extractor de datos para {len(indicadores_list)} indicadores...\")\n",
    "    dataweb = DataWeb(indicadores_list)\n",
    "    \n",
    "    # CONTADORES PARA ESTADÍSTICAS\n",
    "    total_registros = 0\n",
    "    indicadores_exitosos = 0\n",
    "    indicadores_fallidos = 0\n",
    "    errores_detalle = []\n",
    "    \n",
    "    print(f\"\\n🔄 INICIANDO EXTRACCIÓN Y CARGA\")\n",
    "    print(\"=\" * 40)\n",
    "    \n",
    "    # PROCESAR CADA INDICADOR\n",
    "    for i, indicador in enumerate(indicadores_list, 1):\n",
    "        print(f\"\\n📊 [{i}/{len(indicadores_list)}] Procesando: {indicador}\")\n",
    "        print(\"-\" * 50)\n",
    "        \n",
    "        try:\n",
    "            # PASO 1: EXTRAER DATOS HISTÓRICOS\n",
    "            print(f\"🔍 1. Extrayendo datos históricos de Yahoo Finance...\")\n",
    "            df_pandas = dataweb.obtener_datos(indicador)\n",
    "            \n",
    "            if df_pandas.empty:\n",
    "                print(f\"⚠️ No se obtuvieron datos históricos para {indicador}\")\n",
    "                indicadores_fallidos += 1\n",
    "                errores_detalle.append(f\"{indicador}: Sin datos históricos disponibles\")\n",
    "                continue\n",
    "            \n",
    "            print(f\"✅ Extraídos {len(df_pandas)} registros históricos\")\n",
    "            \n",
    "            # PASO 2: EXTRAER METADATOS\n",
    "            print(f\"📋 2. Extrayendo metadatos del instrumento...\")\n",
    "            metadatos = dataweb.obtener_metadatos(indicador)\n",
    "            print(f\"✅ Metadatos obtenidos: {metadatos['nombre']}\")\n",
    "            \n",
    "            # PASO 3: TRANSFORMAR A SPARK DATAFRAME\n",
    "            print(f\"⚡ 3. Transformando a Spark DataFrame...\")\n",
    "            \n",
    "            # Definir esquema explícito para datos históricos\n",
    "            schema_financiero = StructType([\n",
    "                StructField(\"fecha\", StringType(), True),\n",
    "                StructField(\"abrir\", DoubleType(), True),\n",
    "                StructField(\"max\", DoubleType(), True),\n",
    "                StructField(\"min\", DoubleType(), True),\n",
    "                StructField(\"cerrar\", DoubleType(), True),\n",
    "                StructField(\"cierre_ajustado\", DoubleType(), True),\n",
    "                StructField(\"volumen\", LongType(), True),\n",
    "                StructField(\"cod_indicador\", StringType(), True),\n",
    "                StructField(\"fecha_extraccion\", TimestampType(), True)\n",
    "            ])\n",
    "            \n",
    "            df_spark = spark.createDataFrame(df_pandas, schema=schema_financiero)\n",
    "            print(f\"✅ DataFrame Spark creado con {df_spark.count()} registros\")\n",
    "            \n",
    "            # PASO 4: CARGAR DATOS HISTÓRICOS (UPSERT)\n",
    "            print(f\"💾 4. Cargando datos históricos a Delta Lake...\")\n",
    "            df_spark.createOrReplaceTempView(\"temp_financiero\")\n",
    "            \n",
    "            merge_historicos = f\"\"\"\n",
    "            MERGE INTO finanzas_schema.indicador_financiero AS target\n",
    "            USING temp_financiero AS source\n",
    "            ON target.fecha = source.fecha AND target.cod_indicador = source.cod_indicador\n",
    "            WHEN MATCHED THEN\n",
    "              UPDATE SET\n",
    "                abrir = source.abrir,\n",
    "                max = source.max,\n",
    "                min = source.min,\n",
    "                cerrar = source.cerrar,\n",
    "                cierre_ajustado = source.cierre_ajustado,\n",
    "                volumen = source.volumen,\n",
    "                fecha_extraccion = source.fecha_extraccion\n",
    "            WHEN NOT MATCHED THEN\n",
    "              INSERT (fecha, abrir, max, min, cerrar, cierre_ajustado, volumen, cod_indicador, fecha_extraccion)\n",
    "              VALUES (source.fecha, source.abrir, source.max, source.min, source.cerrar, \n",
    "                     source.cierre_ajustado, source.volumen, source.cod_indicador, source.fecha_extraccion)\n",
    "            \"\"\"\n",
    "            \n",
    "            spark.sql(merge_historicos)\n",
    "            print(f\"✅ Datos históricos cargados exitosamente\")\n",
    "            \n",
    "            # PASO 5: CARGAR/ACTUALIZAR METADATOS\n",
    "            print(f\"📝 5. Actualizando metadatos demográficos...\")\n",
    "            \n",
    "            # Crear DataFrame de metadatos con esquema explícito\n",
    "            schema_metadatos = StructType([\n",
    "                StructField(\"cod_indicador\", StringType(), True),\n",
    "                StructField(\"nombre\", StringType(), True),\n",
    "                StructField(\"pais\", StringType(), True),\n",
    "                StructField(\"clasificacion\", StringType(), True),\n",
    "                StructField(\"moneda\", StringType(), True),\n",
    "                StructField(\"mercado\", StringType(), True),\n",
    "                StructField(\"fecha_actualizacion\", TimestampType(), True),\n",
    "                StructField(\"activo\", BooleanType(), True)\n",
    "            ])\n",
    "            \n",
    "            df_metadatos = spark.createDataFrame([metadatos], schema=schema_metadatos)\n",
    "            df_metadatos.createOrReplaceTempView(\"temp_metadatos\")\n",
    "            \n",
    "            merge_metadatos = f\"\"\"\n",
    "            MERGE INTO finanzas_schema.indicador_demografico AS target\n",
    "            USING temp_metadatos AS source\n",
    "            ON target.cod_indicador = source.cod_indicador\n",
    "            WHEN MATCHED THEN\n",
    "              UPDATE SET\n",
    "                nombre = source.nombre,\n",
    "                pais = source.pais,\n",
    "                clasificacion = source.clasificacion,\n",
    "                moneda = source.moneda,\n",
    "                mercado = source.mercado,\n",
    "                fecha_actualizacion = source.fecha_actualizacion,\n",
    "                activo = source.activo\n",
    "            WHEN NOT MATCHED THEN\n",
    "              INSERT (cod_indicador, nombre, pais, clasificacion, moneda, mercado, fecha_actualizacion, activo)\n",
    "              VALUES (source.cod_indicador, source.nombre, source.pais, source.clasificacion, \n",
    "                     source.moneda, source.mercado, source.fecha_actualizacion, source.activo)\n",
    "            \"\"\"\n",
    "            \n",
    "            spark.sql(merge_metadatos)\n",
    "            print(f\"✅ Metadatos actualizados exitosamente\")\n",
    "            \n",
    "            # ACTUALIZAR CONTADORES\n",
    "            total_registros += len(df_pandas)\n",
    "            indicadores_exitosos += 1\n",
    "            \n",
    "            print(f\"🎯 {indicador} procesado exitosamente: {len(df_pandas)} registros\")\n",
    "            \n",
    "            # PAUSA PARA NO SOBRECARGAR EL SERVIDOR\n",
    "            print(f\"⏳ Pausa de 2 segundos...\")\n",
    "            time.sleep(2)\n",
    "            \n",
    "        except Exception as e:\n",
    "            print(f\"❌ Error procesando {indicador}: {str(e)}\")\n",
    "            indicadores_fallidos += 1\n",
    "            errores_detalle.append(f\"{indicador}: {str(e)[:100]}\")\n",
    "            \n",
    "            # Continuar con el siguiente indicador\n",
    "            continue\n",
    "    \n",
    "    # OPTIMIZACIÓN POST-CARGA\n",
    "    print(f\"\\n🔧 OPTIMIZANDO TABLAS DELTA...\")\n",
    "    optimizar_tablas_delta()\n",
    "    \n",
    "    # ESTADÍSTICAS FINALES\n",
    "    mostrar_estadisticas_finales(indicadores_exitosos, indicadores_fallidos, total_registros, errores_detalle)\n",
    "    \n",
    "    # ANÁLISIS DE CALIDAD\n",
    "    analizar_calidad_datos()\n",
    "    \n",
    "    return {\n",
    "        'indicadores_exitosos': indicadores_exitosos,\n",
    "        'indicadores_fallidos': indicadores_fallidos,\n",
    "        'total_registros': total_registros,\n",
    "        'errores': errores_detalle\n",
    "    }\n",
    "\n",
    "def optimizar_tablas_delta():\n",
    "    \"\"\"\n",
    "    Optimiza las tablas Delta después de la carga masiva\n",
    "    \"\"\"\n",
    "    try:\n",
    "        print(\"🔧 Optimizando tabla de datos históricos...\")\n",
    "        spark.sql(\"OPTIMIZE finanzas_schema.indicador_financiero\")\n",
    "        \n",
    "        print(\"🔧 Optimizando tabla de metadatos...\")\n",
    "        spark.sql(\"OPTIMIZE finanzas_schema.indicador_demografico\")\n",
    "        \n",
    "        print(\"🔧 Optimizando tabla de parámetros...\")\n",
    "        spark.sql(\"OPTIMIZE finanzas_schema.indicador_parametros\")\n",
    "        \n",
    "        print(\"✅ Optimización Delta completada\")\n",
    "        \n",
    "    except Exception as e:\n",
    "        print(f\"⚠️ Error en optimización: {str(e)}\")\n",
    "\n",
    "def mostrar_estadisticas_finales(exitosos, fallidos, total_registros, errores):\n",
    "    \"\"\"\n",
    "    Muestra estadísticas detalladas del pipeline\n",
    "    \"\"\"\n",
    "    print(f\"\\n🎯 ESTADÍSTICAS FINALES DEL PIPELINE\")\n",
    "    print(\"=\" * 45)\n",
    "    print(f\"✅ Indicadores procesados exitosamente: {exitosos}\")\n",
    "    print(f\"❌ Indicadores fallidos: {fallidos}\")\n",
    "    print(f\"📊 Total registros históricos procesados: {total_registros:,}\")\n",
    "    print(f\"📈 Promedio registros por indicador: {total_registros // max(exitosos, 1):,}\")\n",
    "    \n",
    "    if errores:\n",
    "        print(f\"\\n⚠️ ERRORES ENCONTRADOS:\")\n",
    "        for error in errores:\n",
    "            print(f\"   • {error}\")\n",
    "    \n",
    "    # ESTADÍSTICAS POR TABLA\n",
    "    print(f\"\\n📋 REGISTROS POR TABLA:\")\n",
    "    stats_query = \"\"\"\n",
    "    SELECT 'indicador_financiero' as tabla, COUNT(*) as registros, COUNT(DISTINCT cod_indicador) as indicadores\n",
    "    FROM finanzas_schema.indicador_financiero\n",
    "    UNION ALL\n",
    "    SELECT 'indicador_demografico' as tabla, COUNT(*) as registros, COUNT(DISTINCT cod_indicador) as indicadores\n",
    "    FROM finanzas_schema.indicador_demografico\n",
    "    UNION ALL\n",
    "    SELECT 'indicador_parametros' as tabla, COUNT(*) as registros, COUNT(DISTINCT cod_indicador) as indicadores\n",
    "    FROM finanzas_schema.indicador_parametros\n",
    "    \"\"\"\n",
    "    \n",
    "    spark.sql(stats_query).show()\n",
    "\n",
    "def analizar_calidad_datos():\n",
    "    \"\"\"\n",
    "    Análisis detallado de calidad de los datos cargados\n",
    "    \"\"\"\n",
    "    print(f\"\\n🔍 ANÁLISIS DE CALIDAD DE DATOS\")\n",
    "    print(\"=\" * 35)\n",
    "    \n",
    "    # 1. COMPLETITUD POR INDICADOR\n",
    "    print(\"📊 Completitud de datos por indicador:\")\n",
    "    spark.sql(\"\"\"\n",
    "    SELECT \n",
    "        if.cod_indicador,\n",
    "        id.nombre,\n",
    "        id.clasificacion,\n",
    "        COUNT(*) as total_registros,\n",
    "        SUM(CASE WHEN abrir IS NULL OR abrir = 0 THEN 1 ELSE 0 END) as nulos_abrir,\n",
    "        SUM(CASE WHEN cerrar IS NULL OR cerrar = 0 THEN 1 ELSE 0 END) as nulos_cerrar,\n",
    "        SUM(CASE WHEN volumen IS NULL OR volumen = 0 THEN 1 ELSE 0 END) as sin_volumen,\n",
    "        MIN(fecha) as fecha_desde,\n",
    "        MAX(fecha) as fecha_hasta\n",
    "    FROM finanzas_schema.indicador_financiero if\n",
    "    LEFT JOIN finanzas_schema.indicador_demografico id ON if.cod_indicador = id.cod_indicador\n",
    "    GROUP BY if.cod_indicador, id.nombre, id.clasificacion\n",
    "    ORDER BY total_registros DESC\n",
    "    \"\"\").show(truncate=False)\n",
    "    \n",
    "    # 2. DISTRIBUCIÓN POR CLASIFICACIÓN\n",
    "    print(\"📊 Distribución por tipo de instrumento:\")\n",
    "    spark.sql(\"\"\"\n",
    "    SELECT \n",
    "        id.clasificacion,\n",
    "        COUNT(DISTINCT if.cod_indicador) as num_indicadores,\n",
    "        COUNT(*) as total_registros,\n",
    "        AVG(if.cerrar) as precio_promedio\n",
    "    FROM finanzas_schema.indicador_financiero if\n",
    "    JOIN finanzas_schema.indicador_demografico id ON if.cod_indicador = id.cod_indicador\n",
    "    GROUP BY id.clasificacion\n",
    "    ORDER BY num_indicadores DESC\n",
    "    \"\"\").show()\n",
    "    \n",
    "    # 3. TENDENCIAS RECIENTES\n",
    "    print(\"📊 Últimos datos por indicador:\")\n",
    "    spark.sql(\"\"\"\n",
    "    WITH ultimos_datos AS (\n",
    "        SELECT \n",
    "            cod_indicador,\n",
    "            fecha,\n",
    "            cerrar,\n",
    "            ROW_NUMBER() OVER (PARTITION BY cod_indicador ORDER BY fecha DESC) as rn\n",
    "        FROM finanzas_schema.indicador_financiero\n",
    "        WHERE cerrar IS NOT NULL AND cerrar > 0\n",
    "    )\n",
    "    SELECT \n",
    "        ud.cod_indicador,\n",
    "        id.nombre,\n",
    "        ud.fecha as ultima_fecha,\n",
    "        ud.cerrar as ultimo_precio,\n",
    "        id.moneda\n",
    "    FROM ultimos_datos ud\n",
    "    JOIN finanzas_schema.indicador_demografico id ON ud.cod_indicador = id.cod_indicador\n",
    "    WHERE ud.rn = 1\n",
    "    ORDER BY ud.fecha DESC, ud.cod_indicador\n",
    "    \"\"\").show(truncate=False)\n",
    "\n",
    "def pipeline_indicador_individual(cod_indicador):\n",
    "    \"\"\"\n",
    "    Ejecuta el pipeline para un solo indicador (útil para testing)\n",
    "    \"\"\"\n",
    "    print(f\"🎯 PIPELINE INDIVIDUAL PARA: {cod_indicador}\")\n",
    "    print(\"=\" * 40)\n",
    "    \n",
    "    try:\n",
    "        # Verificar que el indicador existe en parámetros\n",
    "        exists = spark.sql(f\"\"\"\n",
    "        SELECT COUNT(*) as count \n",
    "        FROM finanzas_schema.indicador_parametros \n",
    "        WHERE cod_indicador = '{cod_indicador}' AND activo = true\n",
    "        \"\"\").collect()[0]['count']\n",
    "        \n",
    "        if exists == 0:\n",
    "            print(f\"❌ Indicador {cod_indicador} no encontrado en parámetros activos\")\n",
    "            return None\n",
    "        \n",
    "        # Ejecutar pipeline individual\n",
    "        dataweb = DataWeb([cod_indicador])\n",
    "        \n",
    "        # Extraer datos\n",
    "        df_pandas = dataweb.obtener_datos(cod_indicador)\n",
    "        if df_pandas.empty:\n",
    "            print(f\"❌ No se obtuvieron datos para {cod_indicador}\")\n",
    "            return None\n",
    "        \n",
    "        # Extraer metadatos\n",
    "        metadatos = dataweb.obtener_metadatos(cod_indicador)\n",
    "        \n",
    "        # Mostrar muestra de datos\n",
    "        print(f\"📊 Muestra de datos extraídos:\")\n",
    "        print(df_pandas.head())\n",
    "        print(f\"\\n📋 Metadatos extraídos:\")\n",
    "        for key, value in metadatos.items():\n",
    "            print(f\"   {key}: {value}\")\n",
    "        \n",
    "        return {\n",
    "            'datos': df_pandas,\n",
    "            'metadatos': metadatos,\n",
    "            'registros': len(df_pandas)\n",
    "        }\n",
    "        \n",
    "    except Exception as e:\n",
    "        print(f\"❌ Error en pipeline individual: {str(e)}\")\n",
    "        return None\n",
    "\n",
    "def ejecutar_pipeline_modo_test():\n",
    "    \"\"\"\n",
    "    Ejecuta el pipeline en modo test con solo algunos indicadores\n",
    "    \"\"\"\n",
    "    print(\"🧪 EJECUTANDO PIPELINE EN MODO TEST\")\n",
    "    print(\"=\" * 40)\n",
    "    \n",
    "    # Solo procesar indicadores de prioridad 1\n",
    "    spark.sql(\"\"\"\n",
    "    UPDATE finanzas_schema.indicador_parametros \n",
    "    SET activo = CASE \n",
    "        WHEN prioridad = 1 THEN true \n",
    "        ELSE false \n",
    "    END\n",
    "    \"\"\")\n",
    "    \n",
    "    # Ejecutar pipeline completo\n",
    "    resultado = pipeline_extraccion_completo()\n",
    "    \n",
    "    # Restaurar todos los indicadores activos\n",
    "    spark.sql(\"\"\"\n",
    "    UPDATE finanzas_schema.indicador_parametros \n",
    "    SET activo = true\n",
    "    \"\"\")\n",
    "    \n",
    "    return resultado\n",
    "\n"
   ]
  }
 ],
 "metadata": {
  "application/vnd.databricks.v1+notebook": {
   "computePreferences": null,
   "dashboards": [],
   "environmentMetadata": {
    "base_environment": "",
    "environment_version": "1"
   },
   "inputWidgetPreferences": null,
   "language": "python",
   "notebookMetadata": {
    "mostRecentlyExecutedCommandWithImplicitDF": {
     "commandId": 4115682339969764,
     "dataframes": [
      "_sqldf"
     ]
    },
    "pythonIndentUnit": 4
   },
   "notebookName": "Clase_5_practica",
   "widgets": {}
  }
 },
 "nbformat": 4,
 "nbformat_minor": 0
}